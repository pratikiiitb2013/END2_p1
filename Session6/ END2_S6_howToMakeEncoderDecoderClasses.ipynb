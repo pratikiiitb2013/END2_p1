{
  "nbformat": 4,
  "nbformat_minor": 0,
  "metadata": {
    "colab": {
      "name": "END2_S6_howToMakeEncoderDecoderClasses.ipynb",
      "provenance": [],
      "collapsed_sections": [],
      "authorship_tag": "ABX9TyPvP8/RvWvXvZOk3AETlAGN",
      "include_colab_link": true
    },
    "kernelspec": {
      "name": "python3",
      "display_name": "Python 3"
    },
    "language_info": {
      "name": "python"
    },
    "accelerator": "GPU"
  },
  "cells": [
    {
      "cell_type": "markdown",
      "metadata": {
        "id": "view-in-github",
        "colab_type": "text"
      },
      "source": [
        "<a href=\"https://colab.research.google.com/github/pratikiiitb2013/END2_p1/blob/main/Session6/%20END2_S6_howToMakeEncoderDecoderClasses.ipynb\" target=\"_parent\"><img src=\"https://colab.research.google.com/assets/colab-badge.svg\" alt=\"Open In Colab\"/></a>"
      ]
    },
    {
      "cell_type": "code",
      "metadata": {
        "colab": {
          "base_uri": "https://localhost:8080/",
          "height": 204
        },
        "id": "q9eqD4XaTjdr",
        "outputId": "b8803046-e06a-41c8-efbd-088bae1f70a9"
      },
      "source": [
        "import pandas as pd\n",
        "\n",
        "\n",
        "df = pd.read_csv(\"/content/tweets.csv\")\n",
        "# /content/tweets.csv\n",
        "df.head()"
      ],
      "execution_count": 1,
      "outputs": [
        {
          "output_type": "execute_result",
          "data": {
            "text/html": [
              "<div>\n",
              "<style scoped>\n",
              "    .dataframe tbody tr th:only-of-type {\n",
              "        vertical-align: middle;\n",
              "    }\n",
              "\n",
              "    .dataframe tbody tr th {\n",
              "        vertical-align: top;\n",
              "    }\n",
              "\n",
              "    .dataframe thead th {\n",
              "        text-align: right;\n",
              "    }\n",
              "</style>\n",
              "<table border=\"1\" class=\"dataframe\">\n",
              "  <thead>\n",
              "    <tr style=\"text-align: right;\">\n",
              "      <th></th>\n",
              "      <th>tweets</th>\n",
              "      <th>labels</th>\n",
              "    </tr>\n",
              "  </thead>\n",
              "  <tbody>\n",
              "    <tr>\n",
              "      <th>0</th>\n",
              "      <td>Obama has called the GOP budget social Darwini...</td>\n",
              "      <td>1</td>\n",
              "    </tr>\n",
              "    <tr>\n",
              "      <th>1</th>\n",
              "      <td>In his teen years, Obama has been known to use...</td>\n",
              "      <td>0</td>\n",
              "    </tr>\n",
              "    <tr>\n",
              "      <th>2</th>\n",
              "      <td>IPA Congratulates President Barack Obama for L...</td>\n",
              "      <td>0</td>\n",
              "    </tr>\n",
              "    <tr>\n",
              "      <th>3</th>\n",
              "      <td>RT @Professor_Why: #WhatsRomneyHiding - his co...</td>\n",
              "      <td>0</td>\n",
              "    </tr>\n",
              "    <tr>\n",
              "      <th>4</th>\n",
              "      <td>RT @wardollarshome: Obama has approved more ta...</td>\n",
              "      <td>1</td>\n",
              "    </tr>\n",
              "  </tbody>\n",
              "</table>\n",
              "</div>"
            ],
            "text/plain": [
              "                                              tweets  labels\n",
              "0  Obama has called the GOP budget social Darwini...       1\n",
              "1  In his teen years, Obama has been known to use...       0\n",
              "2  IPA Congratulates President Barack Obama for L...       0\n",
              "3  RT @Professor_Why: #WhatsRomneyHiding - his co...       0\n",
              "4  RT @wardollarshome: Obama has approved more ta...       1"
            ]
          },
          "metadata": {
            "tags": []
          },
          "execution_count": 1
        }
      ]
    },
    {
      "cell_type": "code",
      "metadata": {
        "colab": {
          "base_uri": "https://localhost:8080/"
        },
        "id": "0elSrpK0UXP7",
        "outputId": "0ac14fe5-e516-4f7b-9056-1ffbb2734bce"
      },
      "source": [
        "df.shape"
      ],
      "execution_count": 2,
      "outputs": [
        {
          "output_type": "execute_result",
          "data": {
            "text/plain": [
              "(1364, 2)"
            ]
          },
          "metadata": {
            "tags": []
          },
          "execution_count": 2
        }
      ]
    },
    {
      "cell_type": "code",
      "metadata": {
        "colab": {
          "base_uri": "https://localhost:8080/"
        },
        "id": "OpDYgmu1e62_",
        "outputId": "699889eb-cbc1-4b84-aed7-17f9565195a6"
      },
      "source": [
        "df.labels.value_counts()"
      ],
      "execution_count": 3,
      "outputs": [
        {
          "output_type": "execute_result",
          "data": {
            "text/plain": [
              "0    931\n",
              "1    352\n",
              "2     81\n",
              "Name: labels, dtype: int64"
            ]
          },
          "metadata": {
            "tags": []
          },
          "execution_count": 3
        }
      ]
    },
    {
      "cell_type": "code",
      "metadata": {
        "id": "g6zzR26We8P7"
      },
      "source": [
        "import random\n",
        "import torch, torchtext\n",
        "from torchtext import data"
      ],
      "execution_count": 4,
      "outputs": []
    },
    {
      "cell_type": "code",
      "metadata": {
        "colab": {
          "base_uri": "https://localhost:8080/"
        },
        "id": "xq-uvjwXe-bm",
        "outputId": "9cea0ad8-5ec4-4015-cb36-f1141a21d476"
      },
      "source": [
        "# Manual Seed\n",
        "SEED = 43\n",
        "torch.manual_seed(SEED)"
      ],
      "execution_count": 5,
      "outputs": [
        {
          "output_type": "execute_result",
          "data": {
            "text/plain": [
              "<torch._C.Generator at 0x7fbda65a6f30>"
            ]
          },
          "metadata": {
            "tags": []
          },
          "execution_count": 5
        }
      ]
    },
    {
      "cell_type": "code",
      "metadata": {
        "id": "K9hwYkAOe_7S"
      },
      "source": [
        "Tweet = torchtext.legacy.data.Field(sequential = True, tokenize = 'spacy', batch_first =True, include_lengths=True)\n",
        "Label = torchtext.legacy.data.LabelField(tokenize ='spacy', is_target=True, batch_first =True, sequential =False)"
      ],
      "execution_count": 6,
      "outputs": []
    },
    {
      "cell_type": "code",
      "metadata": {
        "id": "kGRlPM02fBXq"
      },
      "source": [
        "fields = [('tweet', Tweet), ('label', Label)]"
      ],
      "execution_count": 7,
      "outputs": []
    },
    {
      "cell_type": "code",
      "metadata": {
        "id": "KYx6DR-xfCmT"
      },
      "source": [
        "example = [torchtext.legacy.data.Example.fromlist([df.tweets[i],df.labels[i]], fields) for i in range(df.shape[0])] "
      ],
      "execution_count": 8,
      "outputs": []
    },
    {
      "cell_type": "code",
      "metadata": {
        "id": "tRwFkrcffD3K"
      },
      "source": [
        "twitterDataset = torchtext.legacy.data.Dataset(example, fields)"
      ],
      "execution_count": 9,
      "outputs": []
    },
    {
      "cell_type": "code",
      "metadata": {
        "id": "DI-2VgwSfFA3"
      },
      "source": [
        "(train, valid) = twitterDataset.split(split_ratio=[85, 15], random_state = random.seed(SEED))"
      ],
      "execution_count": 10,
      "outputs": []
    },
    {
      "cell_type": "code",
      "metadata": {
        "colab": {
          "base_uri": "https://localhost:8080/"
        },
        "id": "ieToAq6tfGbV",
        "outputId": "3191b7ef-f055-40cb-9da2-17282b4f57a4"
      },
      "source": [
        "len(train), len(valid)"
      ],
      "execution_count": 11,
      "outputs": [
        {
          "output_type": "execute_result",
          "data": {
            "text/plain": [
              "(1159, 205)"
            ]
          },
          "metadata": {
            "tags": []
          },
          "execution_count": 11
        }
      ]
    },
    {
      "cell_type": "code",
      "metadata": {
        "colab": {
          "base_uri": "https://localhost:8080/"
        },
        "id": "xJhZHAxZfIBo",
        "outputId": "ff083995-61b2-4eb3-f03c-7a0b3bbb7f81"
      },
      "source": [
        "vars(train.examples[11])"
      ],
      "execution_count": 12,
      "outputs": [
        {
          "output_type": "execute_result",
          "data": {
            "text/plain": [
              "{'label': 1,\n",
              " 'tweet': ['@sweetbay',\n",
              "  'That',\n",
              "  'was',\n",
              "  'Paul',\n",
              "  'Ryan',\n",
              "  \"'s\",\n",
              "  'budget',\n",
              "  '.',\n",
              "  'How',\n",
              "  'did',\n",
              "  'Obama',\n",
              "  \"'s\",\n",
              "  'budget',\n",
              "  'do',\n",
              "  '?',\n",
              "  'Getting',\n",
              "  'educated',\n",
              "  'on',\n",
              "  'the',\n",
              "  'facts',\n",
              "  'is',\n",
              "  'the',\n",
              "  'first',\n",
              "  'step',\n",
              "  'in',\n",
              "  'losing',\n",
              "  'that',\n",
              "  'liberalism',\n",
              "  '!']}"
            ]
          },
          "metadata": {
            "tags": []
          },
          "execution_count": 12
        }
      ]
    },
    {
      "cell_type": "code",
      "metadata": {
        "id": "QX6j1GYpfJW2"
      },
      "source": [
        "Tweet.build_vocab(train)\n",
        "Label.build_vocab(train)"
      ],
      "execution_count": 13,
      "outputs": []
    },
    {
      "cell_type": "code",
      "metadata": {
        "colab": {
          "base_uri": "https://localhost:8080/"
        },
        "id": "iBFyi1wvfKuN",
        "outputId": "78560538-1489-46ed-e113-4296a62783bb"
      },
      "source": [
        "print('Size of input vocab : ', len(Tweet.vocab))\n",
        "print('Size of label vocab : ', len(Label.vocab))\n",
        "print('Top 10 words appreared repeatedly :', list(Tweet.vocab.freqs.most_common(10)))\n",
        "print('Labels : ', Label.vocab.stoi)"
      ],
      "execution_count": 14,
      "outputs": [
        {
          "output_type": "stream",
          "text": [
            "Size of input vocab :  4651\n",
            "Size of label vocab :  3\n",
            "Top 10 words appreared repeatedly : [('Obama', 1069), (':', 783), ('#', 780), ('.', 761), (',', 598), ('\"', 550), ('the', 542), ('RT', 516), ('?', 419), ('to', 400)]\n",
            "Labels :  defaultdict(None, {0: 0, 1: 1, 2: 2})\n"
          ],
          "name": "stdout"
        }
      ]
    },
    {
      "cell_type": "code",
      "metadata": {
        "colab": {
          "base_uri": "https://localhost:8080/"
        },
        "id": "DgQ_5qfvfMb_",
        "outputId": "d3ef679f-1698-496c-9f41-7a53e6824e31"
      },
      "source": [
        "device = torch.device(\"cuda\" if torch.cuda.is_available() else \"cpu\")\n",
        "device"
      ],
      "execution_count": 15,
      "outputs": [
        {
          "output_type": "execute_result",
          "data": {
            "text/plain": [
              "device(type='cuda')"
            ]
          },
          "metadata": {
            "tags": []
          },
          "execution_count": 15
        }
      ]
    },
    {
      "cell_type": "code",
      "metadata": {
        "id": "zlfS68_OfNzi"
      },
      "source": [
        "train_iterator, valid_iterator = torchtext.legacy.data.BucketIterator.splits((train, valid), batch_size = 32, \n",
        "                                                            sort_key = lambda x: len(x.tweet),\n",
        "                                                            sort_within_batch=True, device = device)"
      ],
      "execution_count": 16,
      "outputs": []
    },
    {
      "cell_type": "code",
      "metadata": {
        "colab": {
          "base_uri": "https://localhost:8080/"
        },
        "id": "eFsAmvAdfPp-",
        "outputId": "415088a7-5307-40e8-b36c-1fdb730b0f1f"
      },
      "source": [
        "next(iter(train_iterator))\n",
        "#len(train.examples[11].tweet)"
      ],
      "execution_count": 17,
      "outputs": [
        {
          "output_type": "execute_result",
          "data": {
            "text/plain": [
              "\n",
              "[torchtext.legacy.data.batch.Batch of size 32]\n",
              "\t[.tweet]:('[torch.cuda.LongTensor of size 32x8 (GPU 0)]', '[torch.cuda.LongTensor of size 32 (GPU 0)]')\n",
              "\t[.label]:[torch.cuda.LongTensor of size 32 (GPU 0)]"
            ]
          },
          "metadata": {
            "tags": []
          },
          "execution_count": 17
        }
      ]
    },
    {
      "cell_type": "code",
      "metadata": {
        "id": "urvHIc9dfWDq"
      },
      "source": [
        "import os, pickle\n",
        "with open('tokenizer.pkl', 'wb') as tokens: \n",
        "    pickle.dump(Tweet.vocab.stoi, tokens)"
      ],
      "execution_count": 18,
      "outputs": []
    },
    {
      "cell_type": "code",
      "metadata": {
        "id": "yFoIERCpfh2o"
      },
      "source": [
        "import torch.nn as nn\n",
        "import torch.nn.functional as F\n",
        "\n",
        "class encoder_part(nn.Module):\n",
        "\n",
        "  def __init__(self, vocab_size, embedding_dim, hidden_dim, n_layers, dropout):\n",
        "    super().__init__() \n",
        "    self.embedding = nn.Embedding(vocab_size, embedding_dim)\n",
        "    self.encoder = nn.LSTM(embedding_dim, hidden_dim, num_layers=n_layers, dropout=dropout, batch_first=True)\n",
        "\n",
        "  def forward(self, text, text_lengths):\n",
        "    # print('enc')\n",
        "    # print(text.shape)\n",
        "    embedded = self.embedding(text)\n",
        "    # print(embedded.shape)\n",
        "    packed_embedded = nn.utils.rnn.pack_padded_sequence(embedded, text_lengths.cpu(), batch_first=True)\n",
        "    packed_output, (hidden, cell) = self.encoder(packed_embedded)\n",
        "    # print(hidden.shape, cell.shape)\n",
        "    # print(packed_output.data.shape)\n",
        "    return packed_output, hidden\n",
        "\n",
        "class decoder_part(nn.Module):\n",
        "\n",
        "  def __init__(self, input_to_decoder_size, decoder_hidden_size, no_times_decoder_cell_has_to_run):\n",
        "    super().__init__()\n",
        "    self.decoder_single_rnn_cell = nn.LSTMCell(input_to_decoder_size,decoder_hidden_size)\n",
        "    self.no_times_decoder_cell_has_to_run = no_times_decoder_cell_has_to_run\n",
        "    self.decoder_hidden_size = decoder_hidden_size\n",
        "\n",
        "  def forward(self, encoder_context_vector):\n",
        "    # print('dec')\n",
        "    # print(encoder_context_vector.shape)\n",
        "    encoder_context_vector = encoder_context_vector.squeeze(0)\n",
        "    # print(encoder_context_vector.shape)\n",
        "    hx = torch.zeros(encoder_context_vector.size(0),self.decoder_hidden_size).to(device)\n",
        "    cx = torch.zeros(encoder_context_vector.size(0),self.decoder_hidden_size).to(device)\n",
        "    otpt = []\n",
        "    for i in range(self.no_times_decoder_cell_has_to_run):\n",
        "      hx,cx = self.decoder_single_rnn_cell(encoder_context_vector,(hx,cx))\n",
        "      otpt.append(hx)\n",
        "      # print(i,hx.shape)\n",
        "    otpt = torch.stack(otpt,dim = 0)\n",
        "    return otpt, hx\n",
        "\n",
        "class combining_encoder_decoder(nn.Module):\n",
        "  \n",
        "  def __init__(self, encoder, decoder, hidden_dim, output_dim):\n",
        "      super().__init__()\n",
        "      self.encoder = encoder\n",
        "      self.decoder = decoder\n",
        "      self.fc = nn.Linear(hidden_dim, output_dim)\n",
        "  \n",
        "  def forward(self,src,src_len):\n",
        "    # print('combined')\n",
        "    # print(src.shape)\n",
        "    enc_packed_outputs, enc_hidden = self.encoder(src,src_len)\n",
        "    # print(enc_hidden.shape)\n",
        "    dec_otpt, dec_hidden = self.decoder(enc_hidden)\n",
        "    # print(dec_hidden.shape)\n",
        "    dense_outputs = self.fc(dec_hidden)\n",
        "    # print(dense_outputs.shape)\n",
        "    op = F.softmax(dense_outputs, dim=1)\n",
        "    # return dense_outputs\n",
        "    return op\n",
        "\n",
        "\n"
      ],
      "execution_count": 19,
      "outputs": []
    },
    {
      "cell_type": "code",
      "metadata": {
        "colab": {
          "base_uri": "https://localhost:8080/"
        },
        "id": "Qr0FnjzDfkue",
        "outputId": "d268d3ac-6433-45ee-d5cf-7e3cdc0fdbbb"
      },
      "source": [
        "\n",
        "# Define hyperparameters\n",
        "size_of_vocab = len(Tweet.vocab)\n",
        "embedding_dim = 300\n",
        "num_hidden_nodes = 100\n",
        "num_output_nodes = 3\n",
        "num_layers = 1\n",
        "dropout = 0.2\n",
        "\n",
        "# Instantiate the model\n",
        "# model = classifier(size_of_vocab, embedding_dim, num_hidden_nodes, num_output_nodes, num_layers, dropout = dropout)\n",
        "enc = encoder_part(size_of_vocab, embedding_dim, num_hidden_nodes, num_layers, dropout = dropout)\n",
        "dec = decoder_part(num_hidden_nodes,num_hidden_nodes,5)\n",
        "\n",
        "model = combining_encoder_decoder(enc,dec,num_hidden_nodes,num_output_nodes).to(device)\n"
      ],
      "execution_count": 20,
      "outputs": [
        {
          "output_type": "stream",
          "text": [
            "/usr/local/lib/python3.7/dist-packages/torch/nn/modules/rnn.py:63: UserWarning: dropout option adds dropout after all but last recurrent layer, so non-zero dropout expects num_layers greater than 1, but got dropout=0.2 and num_layers=1\n",
            "  \"num_layers={}\".format(dropout, num_layers))\n"
          ],
          "name": "stderr"
        }
      ]
    },
    {
      "cell_type": "code",
      "metadata": {
        "colab": {
          "base_uri": "https://localhost:8080/"
        },
        "id": "wki4EcEdfn_Y",
        "outputId": "c440fed8-a406-4544-ad82-c26f8e99bcfa"
      },
      "source": [
        "print(model)\n",
        "\n",
        "#No. of trianable parameters\n",
        "def count_parameters(model):\n",
        "    return sum(p.numel() for p in model.parameters() if p.requires_grad)\n",
        "    \n",
        "print(f'The model has {count_parameters(model):,} trainable parameters')"
      ],
      "execution_count": 21,
      "outputs": [
        {
          "output_type": "stream",
          "text": [
            "combining_encoder_decoder(\n",
            "  (encoder): encoder_part(\n",
            "    (embedding): Embedding(4651, 300)\n",
            "    (encoder): LSTM(300, 100, batch_first=True, dropout=0.2)\n",
            "  )\n",
            "  (decoder): decoder_part(\n",
            "    (decoder_single_rnn_cell): LSTMCell(100, 100)\n",
            "  )\n",
            "  (fc): Linear(in_features=100, out_features=3, bias=True)\n",
            ")\n",
            "The model has 1,637,203 trainable parameters\n"
          ],
          "name": "stdout"
        }
      ]
    },
    {
      "cell_type": "code",
      "metadata": {
        "id": "9nXhLKBFfpqq"
      },
      "source": [
        "import torch.optim as optim\n",
        "\n",
        "# define optimizer and loss\n",
        "optimizer = optim.Adam(model.parameters(), lr=2e-4)\n",
        "criterion = nn.CrossEntropyLoss()\n",
        "\n",
        "# define metric\n",
        "def binary_accuracy(preds, y):\n",
        "    #round predictions to the closest integer\n",
        "    _, predictions = torch.max(preds, 1)\n",
        "    \n",
        "    correct = (predictions == y).float() \n",
        "    acc = correct.sum() / len(correct)\n",
        "    return acc\n",
        "    \n",
        "# push to cuda if available\n",
        "model = model.to(device)\n",
        "criterion = criterion.to(device)"
      ],
      "execution_count": 22,
      "outputs": []
    },
    {
      "cell_type": "code",
      "metadata": {
        "id": "cY8p83bkfrqT"
      },
      "source": [
        "def train(model, iterator, optimizer, criterion):\n",
        "    \n",
        "    # initialize every epoch \n",
        "    epoch_loss = 0\n",
        "    epoch_acc = 0\n",
        "    \n",
        "    # set the model in training phase\n",
        "    model.train()  \n",
        "    \n",
        "    for batch in iterator:\n",
        "        \n",
        "        # resets the gradients after every batch\n",
        "        optimizer.zero_grad()   \n",
        "        \n",
        "        # retrieve text and no. of words\n",
        "        tweet, tweet_lengths = batch.tweet  \n",
        "        \n",
        "        # convert to 1D tensor\n",
        "        predictions = model(tweet, tweet_lengths).squeeze()  \n",
        "        \n",
        "        # compute the loss\n",
        "        loss = criterion(predictions, batch.label)        \n",
        "        \n",
        "        # compute the binary accuracy\n",
        "        acc = binary_accuracy(predictions, batch.label)   \n",
        "        \n",
        "        # backpropage the loss and compute the gradients\n",
        "        loss.backward()       \n",
        "        \n",
        "        # update the weights\n",
        "        optimizer.step()      \n",
        "        \n",
        "        # loss and accuracy\n",
        "        epoch_loss += loss.item()  \n",
        "        epoch_acc += acc.item()    \n",
        "        \n",
        "    return epoch_loss / len(iterator), epoch_acc / len(iterator)"
      ],
      "execution_count": 23,
      "outputs": []
    },
    {
      "cell_type": "code",
      "metadata": {
        "id": "XDAOPW-5ftVE"
      },
      "source": [
        "def evaluate(model, iterator, criterion):\n",
        "    \n",
        "    # initialize every epoch\n",
        "    epoch_loss = 0\n",
        "    epoch_acc = 0\n",
        "\n",
        "    # deactivating dropout layers\n",
        "    model.eval()\n",
        "    \n",
        "    # deactivates autograd\n",
        "    with torch.no_grad():\n",
        "    \n",
        "        for batch in iterator:\n",
        "        \n",
        "            # retrieve text and no. of words\n",
        "            tweet, tweet_lengths = batch.tweet\n",
        "            \n",
        "            # convert to 1d tensor\n",
        "            predictions = model(tweet, tweet_lengths).squeeze()\n",
        "            \n",
        "            # compute loss and accuracy\n",
        "            loss = criterion(predictions, batch.label)\n",
        "            acc = binary_accuracy(predictions, batch.label)\n",
        "            \n",
        "            # keep track of loss and accuracy\n",
        "            epoch_loss += loss.item()\n",
        "            epoch_acc += acc.item()\n",
        "        \n",
        "    return epoch_loss / len(iterator), epoch_acc / len(iterator)"
      ],
      "execution_count": 24,
      "outputs": []
    },
    {
      "cell_type": "code",
      "metadata": {
        "colab": {
          "base_uri": "https://localhost:8080/"
        },
        "id": "5h78655sfvDL",
        "outputId": "af27971d-6a89-40a3-fb04-e84571d13878"
      },
      "source": [
        "N_EPOCHS = 10\n",
        "best_valid_loss = float('inf')\n",
        "\n",
        "for epoch in range(N_EPOCHS):\n",
        "     \n",
        "    # train the model\n",
        "    train_loss, train_acc = train(model, train_iterator, optimizer, criterion)\n",
        "    \n",
        "    # evaluate the model\n",
        "    valid_loss, valid_acc = evaluate(model, valid_iterator, criterion)\n",
        "    \n",
        "    # save the best model\n",
        "    if valid_loss < best_valid_loss:\n",
        "        best_valid_loss = valid_loss\n",
        "        torch.save(model.state_dict(), 'saved_weights.pt')\n",
        "    \n",
        "    print(f'\\tTrain Loss: {train_loss:.3f} | Train Acc: {train_acc*100:.2f}%')\n",
        "    print(f'\\t Val. Loss: {valid_loss:.3f} |  Val. Acc: {valid_acc*100:.2f}% \\n')"
      ],
      "execution_count": 25,
      "outputs": [
        {
          "output_type": "stream",
          "text": [
            "\tTrain Loss: 1.080 | Train Acc: 55.53%\n",
            "\t Val. Loss: 1.038 |  Val. Acc: 69.20% \n",
            "\n",
            "\tTrain Loss: 0.982 | Train Acc: 69.12%\n",
            "\t Val. Loss: 0.895 |  Val. Acc: 68.30% \n",
            "\n",
            "\tTrain Loss: 0.873 | Train Acc: 69.12%\n",
            "\t Val. Loss: 0.850 |  Val. Acc: 68.30% \n",
            "\n",
            "\tTrain Loss: 0.829 | Train Acc: 72.67%\n",
            "\t Val. Loss: 0.826 |  Val. Acc: 74.11% \n",
            "\n",
            "\tTrain Loss: 0.794 | Train Acc: 77.70%\n",
            "\t Val. Loss: 0.813 |  Val. Acc: 75.89% \n",
            "\n",
            "\tTrain Loss: 0.766 | Train Acc: 79.90%\n",
            "\t Val. Loss: 0.794 |  Val. Acc: 76.34% \n",
            "\n",
            "\tTrain Loss: 0.739 | Train Acc: 82.35%\n",
            "\t Val. Loss: 0.788 |  Val. Acc: 75.89% \n",
            "\n",
            "\tTrain Loss: 0.716 | Train Acc: 84.12%\n",
            "\t Val. Loss: 0.785 |  Val. Acc: 76.79% \n",
            "\n",
            "\tTrain Loss: 0.702 | Train Acc: 85.47%\n",
            "\t Val. Loss: 0.773 |  Val. Acc: 77.68% \n",
            "\n",
            "\tTrain Loss: 0.687 | Train Acc: 86.49%\n",
            "\t Val. Loss: 0.760 |  Val. Acc: 79.46% \n",
            "\n"
          ],
          "name": "stdout"
        }
      ]
    },
    {
      "cell_type": "code",
      "metadata": {
        "id": "SQX7D-7_fwi1"
      },
      "source": [
        "#load weights and tokenizer\n",
        "\n",
        "path='./saved_weights.pt'\n",
        "model.load_state_dict(torch.load(path));\n",
        "model.eval();\n",
        "tokenizer_file = open('./tokenizer.pkl', 'rb')\n",
        "tokenizer = pickle.load(tokenizer_file)\n",
        "\n",
        "#inference \n",
        "\n",
        "import spacy\n",
        "nlp = spacy.load('en')\n",
        "\n",
        "def classify_tweet(tweet):\n",
        "    \n",
        "    categories = {0: \"Negative\", 1:\"Positive\", 2:\"Neutral\"}\n",
        "    \n",
        "    # tokenize the tweet \n",
        "    tokenized = [tok.text for tok in nlp.tokenizer(tweet)] \n",
        "    # convert to integer sequence using predefined tokenizer dictionary\n",
        "    indexed = [tokenizer[t] for t in tokenized]        \n",
        "    # compute no. of words        \n",
        "    length = [len(indexed)]\n",
        "    # convert to tensor                                    \n",
        "    tensor = torch.LongTensor(indexed).to(device)   \n",
        "    # reshape in form of batch, no. of words           \n",
        "    tensor = tensor.unsqueeze(1).T  \n",
        "    # convert to tensor                          \n",
        "    length_tensor = torch.LongTensor(length)\n",
        "    # Get the model prediction                  \n",
        "    prediction = model(tensor, length_tensor)\n",
        "\n",
        "    enc = encoder_part(size_of_vocab, embedding_dim, num_hidden_nodes, num_layers, dropout = dropout).to(device)\n",
        "    encoder_packed_outputs, encoder_final_hidden = enc(tensor,length_tensor)\n",
        "    print('Encoder LSTM output vector after each word: ')\n",
        "    for i in range(encoder_packed_outputs.data.shape[0]):\n",
        "      print('after',i+1, 'word')\n",
        "      print(encoder_packed_outputs.data[i])\n",
        "    print()\n",
        "    print('Encoder LSTM final hidden vector')\n",
        "    print(encoder_final_hidden)\n",
        "    print()\n",
        "    dec = decoder_part(num_hidden_nodes,num_hidden_nodes,3).to(device)\n",
        "    decoder_outputs, decoder_final_hidden = dec(encoder_final_hidden)\n",
        "    print('Decoder LSTM output vector after each time step(total 3 time steps)')\n",
        "    for i in range(decoder_outputs.shape[0]):\n",
        "      print('after',i+1, 'time step')\n",
        "      print(decoder_outputs[i])\n",
        "    print()\n",
        "    print('Decoder LSTM final hidden vector')\n",
        "    print(decoder_final_hidden)\n",
        "    print()\n",
        "    print('Final vector after FC layer')\n",
        "    print(prediction)\n",
        "    _, pred = torch.max(prediction, 1) \n",
        "    \n",
        "    return categories[pred.item()]\n",
        "\n",
        "\n",
        "# enc_packed_outputs, enc_hidden = self.encoder(src,src_len)\n",
        "# # print(enc_hidden.shape)\n",
        "# dec_otpt, dec_hidden = self.decoder(enc_hidden)\n",
        "# # print(dec_hidden.shape)\n",
        "# dense_outputs = self.fc(dec_hidden)"
      ],
      "execution_count": 26,
      "outputs": []
    },
    {
      "cell_type": "code",
      "metadata": {
        "colab": {
          "base_uri": "https://localhost:8080/",
          "height": 1000
        },
        "id": "wZ_yqyZIfyyr",
        "outputId": "9a8680bb-88ce-4c02-eed5-5311b6453501"
      },
      "source": [
        "# classify_tweet(\"A valid explanation for why Trump won't let women on the golf course.\")\n",
        "classify_tweet(\"I didn't like it.\")"
      ],
      "execution_count": 27,
      "outputs": [
        {
          "output_type": "stream",
          "text": [
            "Encoder LSTM output vector after each word: \n",
            "after 1 word\n",
            "tensor([ 0.0279, -0.0118, -0.0512,  0.4464, -0.0145,  0.0075,  0.3223, -0.0144,\n",
            "         0.0760, -0.0807, -0.0752, -0.0076, -0.1303,  0.0508, -0.0518,  0.1078,\n",
            "         0.1638,  0.0473,  0.1986,  0.0836, -0.3873, -0.0718, -0.0464, -0.0610,\n",
            "         0.0406,  0.0208,  0.0618,  0.1095, -0.2405, -0.2676, -0.0018,  0.1558,\n",
            "         0.0463, -0.1393,  0.0012,  0.1032,  0.0324, -0.1077,  0.0079, -0.2336,\n",
            "        -0.1999,  0.4669, -0.0975,  0.0580,  0.0186,  0.1558,  0.0715, -0.1798,\n",
            "        -0.0925, -0.0454, -0.0424, -0.0051, -0.3227,  0.0252, -0.0217, -0.1077,\n",
            "         0.3021, -0.0359,  0.2489,  0.0109,  0.3492,  0.1931, -0.0114,  0.0944,\n",
            "        -0.0783, -0.0208, -0.0109,  0.0833, -0.0841,  0.1102, -0.1604,  0.0250,\n",
            "         0.0339,  0.4831,  0.0323,  0.2132, -0.0175,  0.0316, -0.0087, -0.0543,\n",
            "        -0.1666, -0.0407,  0.0736,  0.2357, -0.2479,  0.0367,  0.1454, -0.1035,\n",
            "        -0.0551, -0.1356,  0.1154, -0.2153,  0.1025, -0.2651, -0.0111,  0.2139,\n",
            "         0.0629,  0.1501,  0.0418, -0.1553], device='cuda:0',\n",
            "       grad_fn=<SelectBackward>)\n",
            "after 2 word\n",
            "tensor([ 0.0968, -0.0292, -0.2083,  0.2860, -0.0150,  0.0628, -0.0081, -0.2452,\n",
            "         0.1042,  0.0481, -0.0487,  0.1778, -0.1851,  0.0041,  0.2563,  0.0137,\n",
            "         0.2506, -0.0071, -0.4765,  0.1692, -0.2369, -0.2495,  0.0301, -0.1526,\n",
            "        -0.2193, -0.0405,  0.2276,  0.1097,  0.4209, -0.1608,  0.1533,  0.0816,\n",
            "        -0.0961, -0.0484,  0.0958, -0.2561,  0.1394, -0.1137, -0.0436, -0.2248,\n",
            "         0.0754,  0.4536, -0.1550, -0.1079,  0.1054, -0.4900, -0.0450, -0.0419,\n",
            "        -0.3278, -0.0028,  0.0395, -0.0572, -0.4708, -0.1843, -0.0894,  0.0239,\n",
            "        -0.0885,  0.2306, -0.0511,  0.1718,  0.2271,  0.0382, -0.1253,  0.0906,\n",
            "         0.1251,  0.3067, -0.1076,  0.1937, -0.4086,  0.3142, -0.0596,  0.0034,\n",
            "         0.0676,  0.1429,  0.1372, -0.1844,  0.0127, -0.1016,  0.0883, -0.0801,\n",
            "         0.0786, -0.1085,  0.2062,  0.1026, -0.1114, -0.0057,  0.1431,  0.2175,\n",
            "        -0.1699,  0.1322,  0.0927, -0.0830,  0.0123,  0.3272, -0.0032, -0.1599,\n",
            "        -0.0299,  0.3753,  0.0309, -0.2079], device='cuda:0',\n",
            "       grad_fn=<SelectBackward>)\n",
            "after 3 word\n",
            "tensor([ 0.1649, -0.0312, -0.2080, -0.0879,  0.1438,  0.1525, -0.3092,  0.3160,\n",
            "        -0.2181,  0.3456, -0.3491,  0.3049,  0.0858, -0.0549,  0.4991,  0.0667,\n",
            "         0.0035,  0.0247, -0.7102,  0.2889, -0.0099, -0.3513,  0.0077,  0.1173,\n",
            "        -0.4163, -0.0495,  0.4533,  0.1538, -0.1855,  0.0073, -0.2665, -0.0202,\n",
            "        -0.4070,  0.1285,  0.1166,  0.0184,  0.1098, -0.2055,  0.0818, -0.1232,\n",
            "        -0.0332, -0.2162, -0.1060,  0.3829, -0.0824, -0.3414, -0.1817,  0.0074,\n",
            "        -0.0042, -0.1210,  0.0998, -0.0802, -0.1484, -0.0605, -0.2660, -0.0093,\n",
            "         0.0292,  0.4936, -0.2154,  0.2335,  0.1128, -0.0631, -0.0088,  0.2562,\n",
            "         0.3346, -0.0599, -0.3929,  0.1855, -0.5465,  0.2255, -0.0889,  0.0849,\n",
            "         0.1386,  0.0422,  0.1235, -0.0399, -0.4414,  0.3985,  0.2975, -0.0909,\n",
            "         0.4060, -0.2713,  0.1699, -0.0148, -0.0560,  0.0864, -0.1576,  0.2874,\n",
            "        -0.1074,  0.0693,  0.0342,  0.3516,  0.0650,  0.0400, -0.1484, -0.1829,\n",
            "        -0.0450,  0.1893,  0.0607, -0.2661], device='cuda:0',\n",
            "       grad_fn=<SelectBackward>)\n",
            "after 4 word\n",
            "tensor([-2.9822e-01,  8.0932e-02,  2.3490e-01, -7.4701e-03, -6.9908e-02,\n",
            "        -5.7264e-02, -2.6866e-01,  1.3202e-01, -3.4028e-01, -1.7077e-01,\n",
            "        -6.8007e-02, -5.8932e-02,  9.0109e-02,  2.2277e-01,  1.9037e-01,\n",
            "         2.3616e-01,  5.1545e-03,  2.9139e-01, -1.1315e-01, -5.5860e-02,\n",
            "         7.9771e-02, -5.8078e-02,  1.3260e-01,  3.4571e-01, -1.0627e-01,\n",
            "        -2.3579e-01,  4.0839e-01,  9.5735e-02, -9.0484e-02, -1.5254e-01,\n",
            "        -3.9710e-01, -8.7596e-02,  1.6686e-02,  2.2121e-01, -9.9107e-02,\n",
            "         2.0264e-01,  5.0110e-02, -8.3359e-02, -1.7526e-01,  1.2163e-03,\n",
            "        -1.9915e-01, -6.5005e-02,  2.5428e-03,  5.4278e-02,  1.2972e-01,\n",
            "        -1.1472e-01,  1.8919e-01,  7.1243e-02,  1.1651e-01,  2.4996e-01,\n",
            "         2.7118e-01,  1.1871e-01,  3.9563e-03,  1.2436e-01, -7.8990e-02,\n",
            "         6.8937e-02,  4.7832e-02,  6.3385e-02, -1.0343e-01,  4.1861e-02,\n",
            "         2.6205e-01,  2.4583e-01, -1.3857e-01,  1.6220e-01,  3.2807e-02,\n",
            "        -1.1616e-01, -2.0078e-01, -3.8611e-02, -1.0569e-01,  7.0039e-02,\n",
            "        -5.9165e-01, -5.7325e-03,  1.4553e-01, -1.9205e-01,  6.2767e-02,\n",
            "         5.0905e-02, -3.8246e-01, -3.7724e-03, -5.0983e-02, -5.0929e-01,\n",
            "        -3.0454e-05,  4.9073e-02,  1.8798e-02, -2.3911e-01,  2.0530e-03,\n",
            "         4.6398e-01,  1.1711e-01,  1.7905e-01, -6.7251e-02, -9.4840e-02,\n",
            "        -5.4690e-02,  2.6073e-01,  8.1375e-02,  1.3875e-01, -3.8762e-01,\n",
            "        -3.5285e-02, -4.3374e-03,  7.8512e-03, -2.6205e-02, -3.2362e-01],\n",
            "       device='cuda:0', grad_fn=<SelectBackward>)\n",
            "after 5 word\n",
            "tensor([-0.0519, -0.1693,  0.4004, -0.1989,  0.1925, -0.2677,  0.0342,  0.1061,\n",
            "        -0.3467,  0.0573,  0.0978, -0.2630,  0.1048,  0.2737, -0.1433,  0.1882,\n",
            "         0.2666,  0.3956, -0.0248, -0.2867,  0.1040,  0.1052,  0.3305,  0.3107,\n",
            "        -0.2260, -0.1260,  0.5268,  0.3571, -0.0091, -0.4968, -0.5113,  0.1922,\n",
            "         0.1293, -0.2220,  0.0247,  0.3570,  0.0535,  0.0018, -0.0808,  0.0759,\n",
            "        -0.5710, -0.0034,  0.0285, -0.0239,  0.0082,  0.0354,  0.1000, -0.1900,\n",
            "        -0.1144,  0.2038,  0.1630, -0.1718,  0.2297, -0.0207, -0.0719, -0.1459,\n",
            "         0.1320,  0.0529,  0.1209,  0.0062,  0.1393, -0.0876, -0.1082, -0.0885,\n",
            "        -0.0717,  0.0413, -0.2485,  0.0136, -0.1105,  0.3345, -0.4987,  0.0987,\n",
            "         0.1881,  0.0586, -0.5796,  0.0702, -0.1583,  0.1964, -0.2099, -0.0457,\n",
            "         0.1894, -0.0113, -0.0404,  0.1042,  0.1349,  0.1661,  0.0443,  0.1754,\n",
            "        -0.0430,  0.0953, -0.1155,  0.2194,  0.3342, -0.0123, -0.5825, -0.1447,\n",
            "         0.0588, -0.0031, -0.1015, -0.2595], device='cuda:0',\n",
            "       grad_fn=<SelectBackward>)\n",
            "after 6 word\n",
            "tensor([ 0.2893,  0.1395,  0.2594, -0.4537,  0.4823, -0.1054, -0.4093, -0.0997,\n",
            "        -0.4068,  0.3564, -0.1330, -0.0546,  0.0197,  0.1113,  0.1575,  0.0366,\n",
            "         0.1280,  0.0582,  0.0632, -0.1858,  0.2161, -0.1221,  0.2870,  0.1116,\n",
            "        -0.3577, -0.2262,  0.5381,  0.2470, -0.3330, -0.1184, -0.3545, -0.0043,\n",
            "        -0.2142,  0.1602, -0.0727,  0.5071,  0.2639,  0.2651, -0.1651,  0.2572,\n",
            "         0.0563, -0.0457, -0.1286,  0.0170,  0.0678, -0.0174, -0.1903,  0.4956,\n",
            "        -0.0030, -0.0367,  0.0669, -0.0472,  0.3519, -0.0597, -0.1548, -0.2314,\n",
            "         0.1122,  0.0867, -0.0420, -0.1626, -0.1987,  0.2101, -0.0411, -0.1377,\n",
            "        -0.5496, -0.0952, -0.1352,  0.0190, -0.2333,  0.4054, -0.2040, -0.0448,\n",
            "         0.1904,  0.2324, -0.1253, -0.3370, -0.0832,  0.6237,  0.0667,  0.1847,\n",
            "         0.1469,  0.0752,  0.1084,  0.0794, -0.0276,  0.2146,  0.0773, -0.0469,\n",
            "        -0.1241, -0.0040, -0.3113,  0.1734,  0.1583, -0.1527, -0.1882,  0.0506,\n",
            "         0.3264,  0.2155, -0.0152,  0.0428], device='cuda:0',\n",
            "       grad_fn=<SelectBackward>)\n",
            "\n",
            "Encoder LSTM final hidden vector\n",
            "tensor([[[ 0.2893,  0.1395,  0.2594, -0.4537,  0.4823, -0.1054, -0.4093,\n",
            "          -0.0997, -0.4068,  0.3564, -0.1330, -0.0546,  0.0197,  0.1113,\n",
            "           0.1575,  0.0366,  0.1280,  0.0582,  0.0632, -0.1858,  0.2161,\n",
            "          -0.1221,  0.2870,  0.1116, -0.3577, -0.2262,  0.5381,  0.2470,\n",
            "          -0.3330, -0.1184, -0.3545, -0.0043, -0.2142,  0.1602, -0.0727,\n",
            "           0.5071,  0.2639,  0.2651, -0.1651,  0.2572,  0.0563, -0.0457,\n",
            "          -0.1286,  0.0170,  0.0678, -0.0174, -0.1903,  0.4956, -0.0030,\n",
            "          -0.0367,  0.0669, -0.0472,  0.3519, -0.0597, -0.1548, -0.2314,\n",
            "           0.1122,  0.0867, -0.0420, -0.1626, -0.1987,  0.2101, -0.0411,\n",
            "          -0.1377, -0.5496, -0.0952, -0.1352,  0.0190, -0.2333,  0.4054,\n",
            "          -0.2040, -0.0448,  0.1904,  0.2324, -0.1253, -0.3370, -0.0832,\n",
            "           0.6237,  0.0667,  0.1847,  0.1469,  0.0752,  0.1084,  0.0794,\n",
            "          -0.0276,  0.2146,  0.0773, -0.0469, -0.1241, -0.0040, -0.3113,\n",
            "           0.1734,  0.1583, -0.1527, -0.1882,  0.0506,  0.3264,  0.2155,\n",
            "          -0.0152,  0.0428]]], device='cuda:0', grad_fn=<CudnnRnnBackward>)\n",
            "\n",
            "Decoder LSTM output vector after each time step(total 3 time steps)\n",
            "after 1 time step\n",
            "tensor([[-0.0151, -0.0148, -0.0097,  0.0310,  0.0423, -0.0212, -0.0347, -0.0594,\n",
            "          0.0022, -0.0172, -0.0318,  0.0541,  0.0120, -0.0243,  0.0281,  0.0597,\n",
            "         -0.0185, -0.0162,  0.0790, -0.0524,  0.0075, -0.0255,  0.0600, -0.0095,\n",
            "         -0.0203,  0.0510, -0.0334,  0.0086,  0.0533,  0.0625, -0.0010,  0.0091,\n",
            "          0.0132, -0.0380, -0.0061, -0.0136, -0.0273,  0.0342, -0.0129,  0.0146,\n",
            "          0.1300, -0.0212,  0.0021,  0.0034, -0.0045,  0.0135,  0.0290,  0.0608,\n",
            "         -0.0011, -0.0287,  0.0417, -0.0666,  0.0184, -0.0304, -0.0359, -0.0089,\n",
            "         -0.0111,  0.0431, -0.0880,  0.0754,  0.0372, -0.0105,  0.0188, -0.0229,\n",
            "         -0.0025, -0.0697,  0.0129,  0.0097,  0.0473,  0.0433,  0.0204, -0.0042,\n",
            "         -0.0148,  0.0351,  0.0363,  0.0250, -0.0156, -0.0360,  0.0248,  0.0009,\n",
            "          0.0455,  0.0165, -0.0145, -0.0075, -0.0464,  0.0429, -0.0721,  0.0247,\n",
            "          0.0759,  0.0062, -0.0227,  0.0358, -0.0356, -0.0080,  0.0938,  0.0265,\n",
            "          0.0061,  0.0782, -0.0411,  0.0154]], device='cuda:0',\n",
            "       grad_fn=<SelectBackward>)\n",
            "after 2 time step\n",
            "tensor([[-0.0193, -0.0201, -0.0051,  0.0410,  0.0576, -0.0317, -0.0520, -0.0930,\n",
            "         -0.0013, -0.0354, -0.0451,  0.0747,  0.0113, -0.0353,  0.0478,  0.0905,\n",
            "         -0.0250, -0.0214,  0.1158, -0.0834,  0.0108, -0.0475,  0.0855, -0.0134,\n",
            "         -0.0255,  0.0726, -0.0510,  0.0174,  0.0731,  0.0802, -0.0033,  0.0079,\n",
            "          0.0241, -0.0618, -0.0027, -0.0252, -0.0441,  0.0468, -0.0240,  0.0253,\n",
            "          0.1905, -0.0310,  0.0059,  0.0075, -0.0141,  0.0204,  0.0458,  0.0872,\n",
            "         -0.0004, -0.0344,  0.0616, -0.1004,  0.0390, -0.0415, -0.0496, -0.0244,\n",
            "          0.0027,  0.0657, -0.1232,  0.1011,  0.0522, -0.0203,  0.0306, -0.0335,\n",
            "          0.0060, -0.1197,  0.0180,  0.0072,  0.0785,  0.0636,  0.0350, -0.0085,\n",
            "         -0.0216,  0.0566,  0.0403,  0.0523, -0.0311, -0.0503,  0.0372, -0.0020,\n",
            "          0.0694,  0.0170, -0.0295, -0.0127, -0.0635,  0.0546, -0.0888,  0.0428,\n",
            "          0.1164,  0.0095, -0.0412,  0.0479, -0.0477, -0.0115,  0.1353,  0.0367,\n",
            "          0.0085,  0.1179, -0.0648,  0.0215]], device='cuda:0',\n",
            "       grad_fn=<SelectBackward>)\n",
            "after 3 time step\n",
            "tensor([[-1.9435e-02, -2.2200e-02,  1.2263e-03,  4.3512e-02,  6.4296e-02,\n",
            "         -3.6782e-02, -6.1743e-02, -1.1314e-01, -4.7458e-03, -4.7779e-02,\n",
            "         -5.1036e-02,  8.3730e-02,  9.0091e-03, -4.0239e-02,  5.9047e-02,\n",
            "          1.0561e-01, -2.5971e-02, -2.1936e-02,  1.3198e-01, -1.0200e-01,\n",
            "          1.2045e-02, -6.3207e-02,  9.6606e-02, -1.5298e-02, -2.5230e-02,\n",
            "          8.1578e-02, -6.1340e-02,  2.4595e-02,  8.1272e-02,  8.2711e-02,\n",
            "         -4.9128e-03,  4.2303e-03,  3.2163e-02, -7.6923e-02,  2.4582e-03,\n",
            "         -3.2819e-02, -5.4513e-02,  5.0632e-02, -3.1434e-02,  3.3097e-02,\n",
            "          2.1915e-01, -3.5391e-02,  1.0209e-02,  1.0725e-02, -2.2217e-02,\n",
            "          2.4084e-02,  5.3981e-02,  9.8717e-02, -3.9276e-05, -3.2980e-02,\n",
            "          6.9791e-02, -1.1711e-01,  5.5021e-02, -4.5922e-02, -5.4166e-02,\n",
            "         -3.7701e-02,  1.9598e-02,  7.8585e-02, -1.3718e-01,  1.1004e-01,\n",
            "          5.8002e-02, -2.7377e-02,  3.6807e-02, -3.8879e-02,  1.3779e-02,\n",
            "         -1.5225e-01,  1.8940e-02,  3.5850e-03,  9.8375e-02,  7.4006e-02,\n",
            "          4.4732e-02, -1.1354e-02, -2.4139e-02,  6.9681e-02,  3.6241e-02,\n",
            "          7.2124e-02, -4.2700e-02, -5.5615e-02,  4.4233e-02, -3.7642e-03,\n",
            "          8.0978e-02,  1.4189e-02, -4.1334e-02, -1.6664e-02, -6.8268e-02,\n",
            "          5.6604e-02, -8.8255e-02,  5.3963e-02,  1.3828e-01,  1.2197e-02,\n",
            "         -5.3490e-02,  5.0080e-02, -5.0927e-02, -1.4114e-02,  1.5431e-01,\n",
            "          4.1137e-02,  9.1658e-03,  1.3824e-01, -7.8132e-02,  2.3616e-02]],\n",
            "       device='cuda:0', grad_fn=<SelectBackward>)\n",
            "\n",
            "Decoder LSTM final hidden vector\n",
            "tensor([[-1.9435e-02, -2.2200e-02,  1.2263e-03,  4.3512e-02,  6.4296e-02,\n",
            "         -3.6782e-02, -6.1743e-02, -1.1314e-01, -4.7458e-03, -4.7779e-02,\n",
            "         -5.1036e-02,  8.3730e-02,  9.0091e-03, -4.0239e-02,  5.9047e-02,\n",
            "          1.0561e-01, -2.5971e-02, -2.1936e-02,  1.3198e-01, -1.0200e-01,\n",
            "          1.2045e-02, -6.3207e-02,  9.6606e-02, -1.5298e-02, -2.5230e-02,\n",
            "          8.1578e-02, -6.1340e-02,  2.4595e-02,  8.1272e-02,  8.2711e-02,\n",
            "         -4.9128e-03,  4.2303e-03,  3.2163e-02, -7.6923e-02,  2.4582e-03,\n",
            "         -3.2819e-02, -5.4513e-02,  5.0632e-02, -3.1434e-02,  3.3097e-02,\n",
            "          2.1915e-01, -3.5391e-02,  1.0209e-02,  1.0725e-02, -2.2217e-02,\n",
            "          2.4084e-02,  5.3981e-02,  9.8717e-02, -3.9276e-05, -3.2980e-02,\n",
            "          6.9791e-02, -1.1711e-01,  5.5021e-02, -4.5922e-02, -5.4166e-02,\n",
            "         -3.7701e-02,  1.9598e-02,  7.8585e-02, -1.3718e-01,  1.1004e-01,\n",
            "          5.8002e-02, -2.7377e-02,  3.6807e-02, -3.8879e-02,  1.3779e-02,\n",
            "         -1.5225e-01,  1.8940e-02,  3.5850e-03,  9.8375e-02,  7.4006e-02,\n",
            "          4.4732e-02, -1.1354e-02, -2.4139e-02,  6.9681e-02,  3.6241e-02,\n",
            "          7.2124e-02, -4.2700e-02, -5.5615e-02,  4.4233e-02, -3.7642e-03,\n",
            "          8.0978e-02,  1.4189e-02, -4.1334e-02, -1.6664e-02, -6.8268e-02,\n",
            "          5.6604e-02, -8.8255e-02,  5.3963e-02,  1.3828e-01,  1.2197e-02,\n",
            "         -5.3490e-02,  5.0080e-02, -5.0927e-02, -1.4114e-02,  1.5431e-01,\n",
            "          4.1137e-02,  9.1658e-03,  1.3824e-01, -7.8132e-02,  2.3616e-02]],\n",
            "       device='cuda:0', grad_fn=<ThnnFusedLstmCellBackward>)\n",
            "\n",
            "Final vector after FC layer\n",
            "tensor([[9.9748e-01, 2.2121e-03, 3.0821e-04]], device='cuda:0',\n",
            "       grad_fn=<SoftmaxBackward>)\n"
          ],
          "name": "stdout"
        },
        {
          "output_type": "stream",
          "text": [
            "/usr/local/lib/python3.7/dist-packages/torch/nn/modules/rnn.py:63: UserWarning: dropout option adds dropout after all but last recurrent layer, so non-zero dropout expects num_layers greater than 1, but got dropout=0.2 and num_layers=1\n",
            "  \"num_layers={}\".format(dropout, num_layers))\n"
          ],
          "name": "stderr"
        },
        {
          "output_type": "execute_result",
          "data": {
            "application/vnd.google.colaboratory.intrinsic+json": {
              "type": "string"
            },
            "text/plain": [
              "'Negative'"
            ]
          },
          "metadata": {
            "tags": []
          },
          "execution_count": 27
        }
      ]
    },
    {
      "cell_type": "code",
      "metadata": {
        "colab": {
          "base_uri": "https://localhost:8080/",
          "height": 1000
        },
        "id": "JasIrTqHf0lG",
        "outputId": "da9166ca-3de2-4e8d-ec7e-e421e13dcf39"
      },
      "source": [
        "# classify_tweet(\"RT @Talkmaster: Oh now I get it. Obama was talking in shorthand and we were just too dumb to understand how smart he really is.  Gagme.\")\n",
        "classify_tweet(\"I like it very much.\")"
      ],
      "execution_count": 28,
      "outputs": [
        {
          "output_type": "stream",
          "text": [
            "Encoder LSTM output vector after each word: \n",
            "after 1 word\n",
            "tensor([-2.0345e-01, -1.6616e-01, -1.1580e-01, -6.0648e-02, -3.5947e-01,\n",
            "        -3.8862e-03,  1.8014e-01,  1.0846e-01, -1.6672e-01,  4.8328e-01,\n",
            "        -1.1861e-01,  1.5098e-02,  2.6950e-01,  1.7124e-01,  1.9085e-02,\n",
            "        -5.8312e-02,  2.9988e-02, -1.1355e-01,  4.8190e-02,  1.3405e-01,\n",
            "        -3.4502e-02,  1.7898e-01,  1.4020e-01,  4.3894e-02, -9.8026e-02,\n",
            "         3.2060e-01, -2.7802e-02,  3.7515e-01,  1.0591e-01,  9.5827e-02,\n",
            "        -1.8540e-02, -7.6077e-02,  1.9947e-02, -3.1084e-02,  4.4282e-02,\n",
            "        -8.5460e-02, -9.4731e-02, -2.3396e-01, -1.1828e-01,  1.8742e-02,\n",
            "        -1.5665e-01, -3.6058e-02, -1.4377e-01,  1.8065e-01, -8.1143e-04,\n",
            "         1.0104e-01, -1.8896e-01, -2.8119e-01,  2.1786e-01,  4.1341e-02,\n",
            "        -1.7318e-01, -1.7545e-01, -1.2320e-02,  2.8504e-01, -9.5491e-02,\n",
            "        -4.4925e-02,  2.6304e-01,  3.7529e-02,  8.7803e-02, -5.6785e-02,\n",
            "        -3.1728e-02, -2.4017e-01,  1.9158e-01, -2.4178e-01,  3.4053e-02,\n",
            "        -1.0016e-01, -4.0773e-02, -5.9160e-02, -1.3511e-02, -3.2216e-04,\n",
            "        -7.8253e-02,  4.6831e-02,  1.1995e-01, -3.0145e-02,  8.9569e-02,\n",
            "         9.2987e-02,  3.8724e-02, -3.8733e-02,  2.1402e-01, -2.2541e-02,\n",
            "         1.0892e-03, -2.9180e-01,  1.6807e-01,  4.4831e-02,  1.5859e-01,\n",
            "         7.9903e-03, -3.3317e-02, -6.5944e-02, -1.1738e-01, -8.4864e-02,\n",
            "         1.5617e-01,  6.9246e-02,  1.3892e-01,  1.7151e-01,  3.0557e-01,\n",
            "         2.0988e-01,  2.6975e-01, -7.6190e-02,  1.3336e-01, -7.4784e-02],\n",
            "       device='cuda:0', grad_fn=<SelectBackward>)\n",
            "after 2 word\n",
            "tensor([ 0.1212, -0.0458, -0.1201, -0.1252, -0.0108, -0.1744,  0.0761, -0.1004,\n",
            "        -0.0425, -0.0642, -0.0970, -0.1077,  0.2235, -0.0397,  0.4408, -0.4114,\n",
            "         0.1362, -0.0399,  0.1862, -0.0606, -0.0501,  0.0770,  0.0144,  0.0199,\n",
            "        -0.1864,  0.1244, -0.4039,  0.2295,  0.2190,  0.0353,  0.1106, -0.1594,\n",
            "        -0.0064,  0.1239, -0.0204,  0.0221, -0.0401, -0.0505,  0.3953,  0.4193,\n",
            "        -0.1342, -0.2268, -0.0517, -0.1840,  0.0362,  0.0677, -0.0189, -0.2230,\n",
            "        -0.0356,  0.1611,  0.0614, -0.3923,  0.0327, -0.2423,  0.0962, -0.1642,\n",
            "         0.1368,  0.1324,  0.2989, -0.0555,  0.0133,  0.0244,  0.3302, -0.1587,\n",
            "         0.3751,  0.0289, -0.0895, -0.1382,  0.0304,  0.0312, -0.1539,  0.0551,\n",
            "        -0.1250, -0.1124, -0.0282,  0.0305, -0.1901, -0.0081,  0.1610,  0.1265,\n",
            "        -0.2175, -0.3263, -0.2091,  0.2881,  0.0206,  0.1884, -0.1032,  0.0221,\n",
            "        -0.1419,  0.0859, -0.1394,  0.0375,  0.0145, -0.1115, -0.0533,  0.0399,\n",
            "         0.0652, -0.1998, -0.0819, -0.1599], device='cuda:0',\n",
            "       grad_fn=<SelectBackward>)\n",
            "after 3 word\n",
            "tensor([ 0.0276, -0.1521, -0.2778, -0.1903, -0.0165, -0.0072, -0.2648, -0.1389,\n",
            "         0.0646, -0.0746,  0.0694,  0.0169,  0.3720,  0.0344,  0.1763, -0.2325,\n",
            "         0.1667, -0.0743,  0.2472, -0.1376, -0.0566,  0.0637, -0.2138,  0.1398,\n",
            "        -0.3489, -0.0082,  0.0089, -0.0306,  0.0773, -0.0601,  0.1810,  0.1080,\n",
            "         0.2168,  0.3181, -0.0352, -0.1501, -0.3627,  0.0752,  0.0505,  0.0797,\n",
            "         0.1269,  0.1457,  0.0614,  0.0828, -0.3968,  0.0081,  0.0024, -0.5633,\n",
            "        -0.0277,  0.2422,  0.1321, -0.2885,  0.0776, -0.0313, -0.2617, -0.1325,\n",
            "         0.2490,  0.1355, -0.1112, -0.1269,  0.1819,  0.0035,  0.2898, -0.1989,\n",
            "         0.0230, -0.1564,  0.0908, -0.0175,  0.2603,  0.0945,  0.3622, -0.1111,\n",
            "        -0.1714, -0.1023,  0.1872,  0.2705, -0.3066, -0.0513,  0.4003, -0.0144,\n",
            "        -0.1863,  0.1721,  0.0370,  0.0577, -0.0896,  0.0871,  0.1371, -0.0486,\n",
            "         0.2900,  0.0238, -0.0947, -0.0184, -0.0506,  0.0912, -0.0932,  0.3626,\n",
            "         0.0317, -0.0926, -0.0393, -0.0458], device='cuda:0',\n",
            "       grad_fn=<SelectBackward>)\n",
            "after 4 word\n",
            "tensor([ 0.0273, -0.4373, -0.0085,  0.0770,  0.0333, -0.0013,  0.1208, -0.2515,\n",
            "         0.1386, -0.0534,  0.0480, -0.0787,  0.4324,  0.0921,  0.2604, -0.1140,\n",
            "         0.1716, -0.2273, -0.0219, -0.0811, -0.0637, -0.0382, -0.1105,  0.1953,\n",
            "         0.0787,  0.0558,  0.5054,  0.0673, -0.0587, -0.4997,  0.1645,  0.1607,\n",
            "         0.0171,  0.4805, -0.1985, -0.0107, -0.2981,  0.3598,  0.0443, -0.2591,\n",
            "         0.3135,  0.0760,  0.0568, -0.1153, -0.1071,  0.0272,  0.2638, -0.1714,\n",
            "        -0.0604,  0.1933,  0.0742, -0.4066, -0.0646,  0.0364,  0.0337, -0.1386,\n",
            "         0.1727,  0.0804,  0.1790, -0.1782, -0.0599, -0.0615,  0.0464, -0.0325,\n",
            "         0.1879, -0.1059,  0.1756,  0.2126, -0.0345,  0.0584,  0.2508, -0.2188,\n",
            "        -0.1700,  0.4867, -0.0887,  0.1242,  0.2664, -0.0761,  0.1425,  0.2787,\n",
            "        -0.5683,  0.2359,  0.0566, -0.0144, -0.2025,  0.1046, -0.0377, -0.1356,\n",
            "         0.0731, -0.0734, -0.0989, -0.3721, -0.2129, -0.1010,  0.3489,  0.1344,\n",
            "         0.1841, -0.2156, -0.0606, -0.2818], device='cuda:0',\n",
            "       grad_fn=<SelectBackward>)\n",
            "after 5 word\n",
            "tensor([ 0.1186, -0.0594,  0.1750,  0.3961,  0.2696,  0.1475, -0.0191, -0.0047,\n",
            "        -0.0228,  0.1335, -0.0202,  0.0840, -0.0013,  0.3028,  0.2133, -0.1406,\n",
            "         0.3270,  0.1632,  0.0349, -0.1783,  0.0284,  0.2414, -0.0329,  0.3606,\n",
            "         0.0255,  0.0567, -0.3187, -0.0075, -0.2728, -0.1612, -0.0093,  0.0473,\n",
            "         0.3440,  0.0429,  0.0181, -0.3589,  0.0071,  0.0580, -0.0641, -0.2717,\n",
            "        -0.2104,  0.1773,  0.1727,  0.2408, -0.1584, -0.1939,  0.1562, -0.2646,\n",
            "        -0.0942,  0.1408,  0.0718, -0.0310, -0.1088, -0.1782, -0.0015,  0.1633,\n",
            "         0.1932,  0.1371, -0.0440, -0.1709, -0.0082,  0.0298,  0.0753, -0.0154,\n",
            "         0.2105, -0.0629, -0.0255,  0.0131,  0.2157,  0.2443,  0.0286, -0.3060,\n",
            "        -0.1549,  0.1651, -0.0647,  0.0241,  0.3705, -0.0609,  0.2501,  0.1985,\n",
            "        -0.1348,  0.0051, -0.0166, -0.0643,  0.0069,  0.0382, -0.1610, -0.3045,\n",
            "        -0.2287,  0.0390, -0.2655, -0.3921, -0.1486, -0.3047,  0.3188, -0.0165,\n",
            "         0.2143, -0.4466, -0.1801, -0.1484], device='cuda:0',\n",
            "       grad_fn=<SelectBackward>)\n",
            "after 6 word\n",
            "tensor([ 0.0156, -0.1337, -0.1448,  0.0776,  0.0399,  0.0054,  0.0872, -0.0965,\n",
            "         0.1188, -0.1112, -0.1424, -0.0204, -0.0094,  0.0787,  0.1191, -0.0407,\n",
            "         0.5018,  0.0457, -0.1855, -0.1362, -0.0499,  0.0455,  0.0515, -0.2482,\n",
            "         0.0846,  0.0331, -0.0851,  0.0346, -0.1057,  0.0481, -0.1340,  0.0830,\n",
            "         0.0778,  0.0702,  0.1865,  0.0353, -0.4223,  0.0697,  0.0742, -0.4375,\n",
            "        -0.0942, -0.1510,  0.0723, -0.0100, -0.1880, -0.0743, -0.1046, -0.2267,\n",
            "        -0.0795,  0.1520,  0.1316, -0.0258, -0.2405,  0.2132, -0.1362, -0.1103,\n",
            "         0.0287, -0.3027,  0.1410, -0.3755,  0.0252, -0.0886, -0.2567,  0.0429,\n",
            "        -0.0889,  0.0627, -0.3377, -0.3656, -0.0105, -0.2124, -0.0450,  0.1197,\n",
            "        -0.0676,  0.3719,  0.0257, -0.1432,  0.3632, -0.2037,  0.1471,  0.3292,\n",
            "        -0.1007,  0.2636, -0.0028, -0.1244, -0.0909,  0.0711, -0.0377, -0.5576,\n",
            "        -0.1953,  0.0603, -0.1162, -0.0747,  0.2627, -0.2570,  0.0345, -0.0168,\n",
            "        -0.1271, -0.3874, -0.1572, -0.2494], device='cuda:0',\n",
            "       grad_fn=<SelectBackward>)\n",
            "\n",
            "Encoder LSTM final hidden vector\n",
            "tensor([[[ 0.0156, -0.1337, -0.1448,  0.0776,  0.0399,  0.0054,  0.0872,\n",
            "          -0.0965,  0.1188, -0.1112, -0.1424, -0.0204, -0.0094,  0.0787,\n",
            "           0.1191, -0.0407,  0.5018,  0.0457, -0.1855, -0.1362, -0.0499,\n",
            "           0.0455,  0.0515, -0.2482,  0.0846,  0.0331, -0.0851,  0.0346,\n",
            "          -0.1057,  0.0481, -0.1340,  0.0830,  0.0778,  0.0702,  0.1865,\n",
            "           0.0353, -0.4223,  0.0697,  0.0742, -0.4375, -0.0942, -0.1510,\n",
            "           0.0723, -0.0100, -0.1880, -0.0743, -0.1046, -0.2267, -0.0795,\n",
            "           0.1520,  0.1316, -0.0258, -0.2405,  0.2132, -0.1362, -0.1103,\n",
            "           0.0287, -0.3027,  0.1410, -0.3755,  0.0252, -0.0886, -0.2567,\n",
            "           0.0429, -0.0889,  0.0627, -0.3377, -0.3656, -0.0105, -0.2124,\n",
            "          -0.0450,  0.1197, -0.0676,  0.3719,  0.0257, -0.1432,  0.3632,\n",
            "          -0.2037,  0.1471,  0.3292, -0.1007,  0.2636, -0.0028, -0.1244,\n",
            "          -0.0909,  0.0711, -0.0377, -0.5576, -0.1953,  0.0603, -0.1162,\n",
            "          -0.0747,  0.2627, -0.2570,  0.0345, -0.0168, -0.1271, -0.3874,\n",
            "          -0.1572, -0.2494]]], device='cuda:0', grad_fn=<CudnnRnnBackward>)\n",
            "\n",
            "Decoder LSTM output vector after each time step(total 3 time steps)\n",
            "after 1 time step\n",
            "tensor([[-2.7688e-02,  3.0963e-02, -7.1842e-02,  4.0067e-02,  1.5210e-02,\n",
            "          2.8901e-03, -3.6104e-02,  5.3509e-02, -9.4352e-04,  4.5239e-02,\n",
            "         -8.9603e-03,  5.6107e-02,  6.3662e-03, -5.0678e-02,  3.3561e-02,\n",
            "          6.0599e-03,  2.8807e-02,  3.5094e-02, -8.6691e-03, -3.3555e-02,\n",
            "         -1.4935e-02,  2.3915e-02,  2.6485e-02, -3.1829e-02,  1.9141e-02,\n",
            "         -3.6343e-02, -4.5660e-02, -1.5787e-02,  2.3721e-02, -3.6749e-02,\n",
            "         -1.0795e-02,  1.0372e-02, -2.3462e-02,  5.0995e-03, -6.7355e-05,\n",
            "          9.4137e-03, -6.1267e-02, -2.7305e-03, -4.2000e-02,  6.0954e-02,\n",
            "          3.1145e-02, -4.2658e-02, -5.5657e-02,  1.0982e-02, -3.1964e-02,\n",
            "         -2.2754e-02, -7.5659e-02, -4.8897e-02,  1.7174e-03,  2.8217e-02,\n",
            "          3.4607e-02,  3.3272e-02, -1.6929e-02,  4.8230e-02, -3.3710e-02,\n",
            "         -7.8432e-02, -3.4698e-02,  1.2240e-02, -4.3694e-03, -5.1646e-03,\n",
            "          2.4337e-02, -4.4282e-04, -3.8489e-02, -6.8056e-02,  2.7051e-02,\n",
            "         -5.9016e-03,  1.5984e-02, -1.6403e-03, -4.4226e-02,  2.0353e-02,\n",
            "          2.3092e-03,  2.0492e-02,  9.2863e-04, -4.6287e-03,  1.3127e-02,\n",
            "          8.5533e-03,  6.6412e-03,  3.2611e-03,  3.1725e-02, -1.3371e-02,\n",
            "          6.1279e-02,  1.6875e-02, -2.2742e-02,  6.9989e-03,  8.4759e-02,\n",
            "         -4.3424e-02, -1.7821e-02,  2.4327e-02, -1.7290e-02,  7.3878e-03,\n",
            "         -4.4548e-02,  8.5105e-03, -1.3082e-02, -1.5706e-02,  4.0484e-02,\n",
            "          7.6325e-03, -2.8627e-02,  3.1473e-02,  2.3948e-02,  4.2032e-02]],\n",
            "       device='cuda:0', grad_fn=<SelectBackward>)\n",
            "after 2 time step\n",
            "tensor([[-3.5156e-02,  4.9598e-02, -1.0794e-01,  6.0053e-02,  2.2847e-02,\n",
            "         -1.0475e-03, -5.2145e-02,  8.4173e-02,  7.2987e-04,  6.5997e-02,\n",
            "         -1.5559e-02,  9.3088e-02,  5.5433e-03, -8.5720e-02,  4.4453e-02,\n",
            "          9.6156e-03,  4.4086e-02,  5.0789e-02, -6.4633e-03, -4.8673e-02,\n",
            "         -1.7180e-02,  3.7330e-02,  4.6924e-02, -5.3383e-02,  3.9689e-02,\n",
            "         -4.8809e-02, -6.1393e-02, -2.1875e-02,  4.0413e-02, -4.4436e-02,\n",
            "         -1.9317e-02,  1.2476e-02, -3.6391e-02,  1.0266e-02,  3.8462e-04,\n",
            "          1.1823e-02, -8.8957e-02, -2.2160e-03, -6.4715e-02,  9.6056e-02,\n",
            "          4.5089e-02, -6.1432e-02, -8.9790e-02,  2.4158e-02, -4.3515e-02,\n",
            "         -3.4005e-02, -1.1144e-01, -8.0005e-02,  6.9162e-03,  4.0413e-02,\n",
            "          5.6591e-02,  5.1281e-02, -3.2676e-02,  6.5331e-02, -5.9076e-02,\n",
            "         -1.1645e-01, -4.6092e-02,  1.7390e-02, -8.5191e-03, -1.2236e-02,\n",
            "          3.3736e-02, -2.7826e-03, -5.4619e-02, -9.3702e-02,  4.0224e-02,\n",
            "         -1.2107e-02,  2.7492e-02, -5.1075e-05, -6.4990e-02,  2.7760e-02,\n",
            "          8.9027e-03,  2.9988e-02, -2.9306e-03, -1.0199e-02,  1.1682e-02,\n",
            "          1.6060e-02,  4.8990e-03,  8.8504e-03,  4.6392e-02, -2.4175e-02,\n",
            "          9.0431e-02,  2.5524e-02, -3.1148e-02,  9.8940e-03,  1.2676e-01,\n",
            "         -6.6962e-02, -3.0326e-02,  3.5591e-02, -3.2709e-02,  9.2541e-03,\n",
            "         -6.6904e-02,  1.4024e-02, -1.7322e-02, -2.7570e-02,  6.5475e-02,\n",
            "          1.6856e-02, -4.2987e-02,  3.9109e-02,  4.2022e-02,  5.7424e-02]],\n",
            "       device='cuda:0', grad_fn=<SelectBackward>)\n",
            "after 3 time step\n",
            "tensor([[-0.0343,  0.0602, -0.1255,  0.0698,  0.0271, -0.0062, -0.0591,  0.1008,\n",
            "          0.0021,  0.0757, -0.0204,  0.1154,  0.0023, -0.1087,  0.0468,  0.0112,\n",
            "          0.0520,  0.0578, -0.0020, -0.0562, -0.0163,  0.0446,  0.0605, -0.0680,\n",
            "          0.0558, -0.0524, -0.0641, -0.0242,  0.0519, -0.0436, -0.0244,  0.0124,\n",
            "         -0.0424,  0.0151,  0.0012,  0.0125, -0.1008, -0.0008, -0.0779,  0.1169,\n",
            "          0.0514, -0.0705, -0.1100,  0.0342, -0.0478, -0.0397, -0.1273, -0.0993,\n",
            "          0.0115,  0.0447,  0.0699,  0.0608, -0.0439,  0.0707, -0.0744, -0.1346,\n",
            "         -0.0499,  0.0204, -0.0114, -0.0168,  0.0372, -0.0045, -0.0620, -0.1023,\n",
            "          0.0474, -0.0165,  0.0348,  0.0013, -0.0753,  0.0301,  0.0146,  0.0338,\n",
            "         -0.0080, -0.0151,  0.0075,  0.0217,  0.0014,  0.0139,  0.0536, -0.0340,\n",
            "          0.1041,  0.0295, -0.0340,  0.0102,  0.1480, -0.0794, -0.0386,  0.0398,\n",
            "         -0.0438,  0.0083, -0.0769,  0.0164, -0.0187, -0.0356,  0.0793,  0.0238,\n",
            "         -0.0501,  0.0397,  0.0544,  0.0618]], device='cuda:0',\n",
            "       grad_fn=<SelectBackward>)\n",
            "\n",
            "Decoder LSTM final hidden vector\n",
            "tensor([[-0.0343,  0.0602, -0.1255,  0.0698,  0.0271, -0.0062, -0.0591,  0.1008,\n",
            "          0.0021,  0.0757, -0.0204,  0.1154,  0.0023, -0.1087,  0.0468,  0.0112,\n",
            "          0.0520,  0.0578, -0.0020, -0.0562, -0.0163,  0.0446,  0.0605, -0.0680,\n",
            "          0.0558, -0.0524, -0.0641, -0.0242,  0.0519, -0.0436, -0.0244,  0.0124,\n",
            "         -0.0424,  0.0151,  0.0012,  0.0125, -0.1008, -0.0008, -0.0779,  0.1169,\n",
            "          0.0514, -0.0705, -0.1100,  0.0342, -0.0478, -0.0397, -0.1273, -0.0993,\n",
            "          0.0115,  0.0447,  0.0699,  0.0608, -0.0439,  0.0707, -0.0744, -0.1346,\n",
            "         -0.0499,  0.0204, -0.0114, -0.0168,  0.0372, -0.0045, -0.0620, -0.1023,\n",
            "          0.0474, -0.0165,  0.0348,  0.0013, -0.0753,  0.0301,  0.0146,  0.0338,\n",
            "         -0.0080, -0.0151,  0.0075,  0.0217,  0.0014,  0.0139,  0.0536, -0.0340,\n",
            "          0.1041,  0.0295, -0.0340,  0.0102,  0.1480, -0.0794, -0.0386,  0.0398,\n",
            "         -0.0438,  0.0083, -0.0769,  0.0164, -0.0187, -0.0356,  0.0793,  0.0238,\n",
            "         -0.0501,  0.0397,  0.0544,  0.0618]], device='cuda:0',\n",
            "       grad_fn=<ThnnFusedLstmCellBackward>)\n",
            "\n",
            "Final vector after FC layer\n",
            "tensor([[0.0319, 0.9655, 0.0025]], device='cuda:0', grad_fn=<SoftmaxBackward>)\n"
          ],
          "name": "stdout"
        },
        {
          "output_type": "stream",
          "text": [
            "/usr/local/lib/python3.7/dist-packages/torch/nn/modules/rnn.py:63: UserWarning: dropout option adds dropout after all but last recurrent layer, so non-zero dropout expects num_layers greater than 1, but got dropout=0.2 and num_layers=1\n",
            "  \"num_layers={}\".format(dropout, num_layers))\n"
          ],
          "name": "stderr"
        },
        {
          "output_type": "execute_result",
          "data": {
            "application/vnd.google.colaboratory.intrinsic+json": {
              "type": "string"
            },
            "text/plain": [
              "'Positive'"
            ]
          },
          "metadata": {
            "tags": []
          },
          "execution_count": 28
        }
      ]
    },
    {
      "cell_type": "code",
      "metadata": {
        "id": "d3LmDYHrW5Ss"
      },
      "source": [
        ""
      ],
      "execution_count": 28,
      "outputs": []
    }
  ]
}