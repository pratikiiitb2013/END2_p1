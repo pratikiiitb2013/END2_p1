{
  "nbformat": 4,
  "nbformat_minor": 0,
  "metadata": {
    "colab": {
      "name": "END2_S3_Pytorch.ipynb",
      "provenance": [],
      "collapsed_sections": [],
      "authorship_tag": "ABX9TyO16sV+qoBOktsAvQ2ijVo0",
      "include_colab_link": true
    },
    "kernelspec": {
      "name": "python3",
      "display_name": "Python 3"
    },
    "language_info": {
      "name": "python"
    }
  },
  "cells": [
    {
      "cell_type": "markdown",
      "metadata": {
        "id": "view-in-github",
        "colab_type": "text"
      },
      "source": [
        "<a href=\"https://colab.research.google.com/github/pratikiiitb2013/END2_p1/blob/main/Session3/%20END2_S3_Pytorch.ipynb\" target=\"_parent\"><img src=\"https://colab.research.google.com/assets/colab-badge.svg\" alt=\"Open In Colab\"/></a>"
      ]
    },
    {
      "cell_type": "code",
      "metadata": {
        "id": "XWKb41LmaYp8"
      },
      "source": [
        "import pandas as pd\n",
        "import numpy as np\n",
        "import torch\n",
        "import torchvision\n",
        "import torch.nn as nn\n",
        "import torch.nn.functional as F\n",
        "import torch.optim as optim \n",
        "from torchvision.transforms import transforms\n",
        "from torch.utils.data import DataLoader\n",
        "from torch.utils.data import Dataset\n",
        "from random import randint"
      ],
      "execution_count": 2,
      "outputs": []
    },
    {
      "cell_type": "code",
      "metadata": {
        "id": "5x8dN0w9SBEf"
      },
      "source": [
        "# class ExampleDataset(Dataset):\n",
        "#     def __init__(self, data):\n",
        "#         self.data = data\n",
        "#     def __len__(self):\n",
        "#         return len(self.data)\n",
        "    \n",
        "#     def __getitem__(self, idx):\n",
        "#         return self.data[idx]"
      ],
      "execution_count": 3,
      "outputs": []
    },
    {
      "cell_type": "code",
      "metadata": {
        "colab": {
          "base_uri": "https://localhost:8080/"
        },
        "id": "l_YwbFHTalfp",
        "outputId": "f4f8323d-31a1-4dae-940b-0927b68f3a80"
      },
      "source": [
        "def get_device():\n",
        "    if torch.cuda.is_available():\n",
        "        device = 'cuda:0'\n",
        "    else:\n",
        "        device = 'cpu'\n",
        "    return device\n",
        "device = get_device()\n",
        "print(device)"
      ],
      "execution_count": 4,
      "outputs": [
        {
          "output_type": "stream",
          "text": [
            "cpu\n"
          ],
          "name": "stdout"
        }
      ]
    },
    {
      "cell_type": "code",
      "metadata": {
        "id": "-XtjWlglXvdN"
      },
      "source": [
        "# sample_data = np.arange(0, 10)\n",
        "# print('The whole data: ', sample_data)\n",
        "# dataset = ExampleDataset(sample_data)\n",
        "# print('Number of samples in the data: ', len(dataset))\n",
        "# print(dataset[2])\n",
        "# print(dataset[0:5])"
      ],
      "execution_count": 5,
      "outputs": []
    },
    {
      "cell_type": "code",
      "metadata": {
        "colab": {
          "base_uri": "https://localhost:8080/"
        },
        "id": "Nz_yjYWMYOeW",
        "outputId": "ff80bef3-8332-4f42-e926-96c85fd05838"
      },
      "source": [
        "!wget https://pjreddie.com/media/files/mnist_train.csv"
      ],
      "execution_count": 6,
      "outputs": [
        {
          "output_type": "stream",
          "text": [
            "--2021-05-18 05:29:07--  https://pjreddie.com/media/files/mnist_train.csv\n",
            "Resolving pjreddie.com (pjreddie.com)... 128.208.4.108\n",
            "Connecting to pjreddie.com (pjreddie.com)|128.208.4.108|:443... connected.\n",
            "HTTP request sent, awaiting response... 200 OK\n",
            "Length: 109575994 (104M) [application/octet-stream]\n",
            "Saving to: ‘mnist_train.csv’\n",
            "\n",
            "mnist_train.csv     100%[===================>] 104.50M  38.1MB/s    in 2.7s    \n",
            "\n",
            "2021-05-18 05:29:11 (38.1 MB/s) - ‘mnist_train.csv’ saved [109575994/109575994]\n",
            "\n"
          ],
          "name": "stdout"
        }
      ]
    },
    {
      "cell_type": "code",
      "metadata": {
        "colab": {
          "base_uri": "https://localhost:8080/"
        },
        "id": "PYvRGb8sbadM",
        "outputId": "bd491589-8e98-40fb-c1c2-b1291541de0e"
      },
      "source": [
        "!ls"
      ],
      "execution_count": 7,
      "outputs": [
        {
          "output_type": "stream",
          "text": [
            "mnist_train.csv  sample_data\n"
          ],
          "name": "stdout"
        }
      ]
    },
    {
      "cell_type": "code",
      "metadata": {
        "id": "P89S8Iz4bg2B"
      },
      "source": [
        "df_train = pd.read_csv('mnist_train.csv', header=None)\n",
        "\n",
        "# get the image pixel values and labels\n",
        "# train_labels = df_train.iloc[:, 0]\n",
        "# train_images = df_train.iloc[:, 1:]\n",
        "# test_labels = df_test.iloc[:, 0]\n",
        "# test_images = df_test.iloc[:, 1:]"
      ],
      "execution_count": 8,
      "outputs": []
    },
    {
      "cell_type": "code",
      "metadata": {
        "colab": {
          "base_uri": "https://localhost:8080/"
        },
        "id": "EQlSBEDocj8M",
        "outputId": "56c1d878-6d24-4853-8433-5ca031d7e451"
      },
      "source": [
        "# custom dataset\n",
        "class customMNISTDataset(Dataset):\n",
        "\n",
        "  def __init__(self, data, transforms=None):\n",
        "    self.X = data.iloc[:, 1:]\n",
        "    self.y = data.iloc[:, 0]\n",
        "    self.transforms = transforms\n",
        "\n",
        "  def __len__(self):\n",
        "    return len(self.X)\n",
        "\n",
        "  def __getitem__(self, idx):\n",
        "    img_data = self.X.iloc[idx, :]\n",
        "    # if isinstance(idx, slice):\n",
        "    #     img_data = np.array([i.reshape(1,28, 28) for i in np.array(img_data)])\n",
        "    #     rand_no = np.array([randint(0, 9) for i in np.array(img_data)])\n",
        "    #     y1 = np.array(self.y[idx])\n",
        "    #     y2 = y1 + rand_no\n",
        "    # else:\n",
        "    img_data = np.array(img_data).astype(np.uint8).reshape(28, 28, 1)\n",
        "    rand_no = randint(0, 9)\n",
        "    y1 = self.y[idx]\n",
        "    y2 = y1 + rand_no\n",
        "    \n",
        "    if self.transforms:\n",
        "      img_data = self.transforms(img_data)\n",
        "    return img_data, rand_no, y1, y2\n",
        "\n",
        "\n",
        "transform=transforms.Compose([\n",
        "    transforms.ToTensor()\n",
        "])\n",
        "\n",
        "train_ds = customMNISTDataset(df_train, transform)\n",
        "print('Number of samples in the data: ', len(dataset))\n",
        "\n",
        "trainloader = DataLoader(train_ds, batch_size=10, shuffle=True)\n",
        "aa = next(iter(trainloader))\n",
        "aa\n",
        "# aa[1].type()\n",
        "# print(dataset[2])\n",
        "# print(dataset[0:5])\n",
        "\n",
        "# batch = next(iter(trainloader))\n",
        "\n",
        "# len(batch), type(batch)"
      ],
      "execution_count": 113,
      "outputs": [
        {
          "output_type": "stream",
          "text": [
            "Number of samples in the data:  60000\n"
          ],
          "name": "stdout"
        },
        {
          "output_type": "execute_result",
          "data": {
            "text/plain": [
              "[tensor([[[[0., 0., 0.,  ..., 0., 0., 0.],\n",
              "           [0., 0., 0.,  ..., 0., 0., 0.],\n",
              "           [0., 0., 0.,  ..., 0., 0., 0.],\n",
              "           ...,\n",
              "           [0., 0., 0.,  ..., 0., 0., 0.],\n",
              "           [0., 0., 0.,  ..., 0., 0., 0.],\n",
              "           [0., 0., 0.,  ..., 0., 0., 0.]]],\n",
              " \n",
              " \n",
              "         [[[0., 0., 0.,  ..., 0., 0., 0.],\n",
              "           [0., 0., 0.,  ..., 0., 0., 0.],\n",
              "           [0., 0., 0.,  ..., 0., 0., 0.],\n",
              "           ...,\n",
              "           [0., 0., 0.,  ..., 0., 0., 0.],\n",
              "           [0., 0., 0.,  ..., 0., 0., 0.],\n",
              "           [0., 0., 0.,  ..., 0., 0., 0.]]],\n",
              " \n",
              " \n",
              "         [[[0., 0., 0.,  ..., 0., 0., 0.],\n",
              "           [0., 0., 0.,  ..., 0., 0., 0.],\n",
              "           [0., 0., 0.,  ..., 0., 0., 0.],\n",
              "           ...,\n",
              "           [0., 0., 0.,  ..., 0., 0., 0.],\n",
              "           [0., 0., 0.,  ..., 0., 0., 0.],\n",
              "           [0., 0., 0.,  ..., 0., 0., 0.]]],\n",
              " \n",
              " \n",
              "         ...,\n",
              " \n",
              " \n",
              "         [[[0., 0., 0.,  ..., 0., 0., 0.],\n",
              "           [0., 0., 0.,  ..., 0., 0., 0.],\n",
              "           [0., 0., 0.,  ..., 0., 0., 0.],\n",
              "           ...,\n",
              "           [0., 0., 0.,  ..., 0., 0., 0.],\n",
              "           [0., 0., 0.,  ..., 0., 0., 0.],\n",
              "           [0., 0., 0.,  ..., 0., 0., 0.]]],\n",
              " \n",
              " \n",
              "         [[[0., 0., 0.,  ..., 0., 0., 0.],\n",
              "           [0., 0., 0.,  ..., 0., 0., 0.],\n",
              "           [0., 0., 0.,  ..., 0., 0., 0.],\n",
              "           ...,\n",
              "           [0., 0., 0.,  ..., 0., 0., 0.],\n",
              "           [0., 0., 0.,  ..., 0., 0., 0.],\n",
              "           [0., 0., 0.,  ..., 0., 0., 0.]]],\n",
              " \n",
              " \n",
              "         [[[0., 0., 0.,  ..., 0., 0., 0.],\n",
              "           [0., 0., 0.,  ..., 0., 0., 0.],\n",
              "           [0., 0., 0.,  ..., 0., 0., 0.],\n",
              "           ...,\n",
              "           [0., 0., 0.,  ..., 0., 0., 0.],\n",
              "           [0., 0., 0.,  ..., 0., 0., 0.],\n",
              "           [0., 0., 0.,  ..., 0., 0., 0.]]]]),\n",
              " tensor([1, 4, 1, 6, 2, 9, 2, 7, 7, 5]),\n",
              " tensor([9, 1, 5, 0, 6, 2, 9, 8, 2, 6]),\n",
              " tensor([10,  5,  6,  6,  8, 11, 11, 15,  9, 11])]"
            ]
          },
          "metadata": {
            "tags": []
          },
          "execution_count": 113
        }
      ]
    },
    {
      "cell_type": "code",
      "metadata": {
        "id": "o1UkeDONhlww"
      },
      "source": [
        "import torch.nn.functional as F\n",
        "\n",
        "def conv_block(input_size, output_size, kernel_size):\n",
        "    block = nn.Sequential(\n",
        "        nn.Conv2d(in_channels=input_size, out_channels=output_size, kernel_size=kernel_size), nn.ReLU(), nn.MaxPool2d((2, 2)),\n",
        "    )\n",
        "    return block\n",
        "\n",
        "class Network(nn.Module):\n",
        "  def __init__(self):\n",
        "        super().__init__()\n",
        "        self.conv1 = conv_block(input_size=1, output_size=6, kernel_size=3)\n",
        "        self.conv2 = conv_block(input_size=6, output_size=12, kernel_size=3)\n",
        "\n",
        "        self.relu = nn.ReLU()\n",
        "        self.fc1 = nn.Linear(in_features=12*5*5, out_features=16)\n",
        "        self.fc2 = nn.Linear(in_features=16, out_features=5)\n",
        "\n",
        "        self.fc3 = nn.Linear(in_features=10, out_features=10)\n",
        "        self.fc4 = nn.Linear(in_features=10, out_features=5)\n",
        "\n",
        "        self.fc5 = nn.Linear(in_features=10, out_features=50)\n",
        "        self.fc6 = nn.Linear(in_features=50, out_features=29)\n",
        "\n",
        "\n",
        "\n",
        "\n",
        "\n",
        "\n",
        "  def forward(self, img, ohe):\n",
        "    img = self.conv1(img)\n",
        "    print(img.shape)\n",
        "    img = self.conv2(img)\n",
        "    print(img.shape)\n",
        "    img = img.reshape(img.shape[0], -1)  # img = img.reshape(-1, 12*5*5)\n",
        "    print(img.shape)\n",
        "    img = self.relu(self.fc1(img))\n",
        "    print(img.shape)\n",
        "    img = self.relu(self.fc2(img))\n",
        "    print(img.shape)\n",
        "    print(ohe.shape)\n",
        "    ohe = self.relu(self.fc3(ohe))\n",
        "    print(ohe.shape)\n",
        "    ohe = self.relu(self.fc4(ohe))\n",
        "    print(ohe.shape)\n",
        "    x = torch.cat((img, ohe), dim=1)\n",
        "    print(x.shape)\n",
        "    x = self.relu(x)\n",
        "    x = self.relu(self.fc5(x))\n",
        "    print(x.shape)\n",
        "    x = self.fc6(x)\n",
        "    print(x.shape)\n",
        "    return x, F.softmax(x[:,0:10], dim=1),F.softmax(x[:,10:], dim=1)\n",
        "    \n",
        "\n",
        "\n"
      ],
      "execution_count": 171,
      "outputs": []
    },
    {
      "cell_type": "code",
      "metadata": {
        "colab": {
          "base_uri": "https://localhost:8080/"
        },
        "id": "vXn579d4S_ho",
        "outputId": "11cdb4a0-eb34-4ff4-cfc0-32a4df8303f7"
      },
      "source": [
        "sample = next(iter(train_ds)) \n",
        "image, randno, label, sm = sample\n",
        "\n",
        "image.shape, image.unsqueeze(0).shape, randno, label, sm\n",
        "# sample"
      ],
      "execution_count": 172,
      "outputs": [
        {
          "output_type": "execute_result",
          "data": {
            "text/plain": [
              "(torch.Size([1, 28, 28]), torch.Size([1, 1, 28, 28]), 0, 5, 5)"
            ]
          },
          "metadata": {
            "tags": []
          },
          "execution_count": 172
        }
      ]
    },
    {
      "cell_type": "code",
      "metadata": {
        "colab": {
          "base_uri": "https://localhost:8080/",
          "height": 35
        },
        "id": "GjQTJDDmhCXr",
        "outputId": "c9522b68-c46b-48ce-df37-600d082957cf"
      },
      "source": [
        "F.one_hot(torch.tensor(randno), num_classes=10)\n",
        "torch.tensor(randno).unsqueeze(0)\n",
        "\n",
        "one_hot = torch.nn.functional.one_hot(torch.tensor(randno).to(torch.int64), 10).float()\n",
        "one_hot.type()"
      ],
      "execution_count": 173,
      "outputs": [
        {
          "output_type": "execute_result",
          "data": {
            "application/vnd.google.colaboratory.intrinsic+json": {
              "type": "string"
            },
            "text/plain": [
              "'torch.FloatTensor'"
            ]
          },
          "metadata": {
            "tags": []
          },
          "execution_count": 173
        }
      ]
    },
    {
      "cell_type": "code",
      "metadata": {
        "colab": {
          "base_uri": "https://localhost:8080/"
        },
        "id": "tevaX7erUOwx",
        "outputId": "fece85db-b33e-4169-da3a-bd2cd44e19d0"
      },
      "source": [
        "network = Network()\n",
        "# F.one_hot(x, num_classes=6)\n",
        "pred1,p2,p3 = network(image.unsqueeze(0), F.one_hot(torch.tensor(randno).unsqueeze(0), num_classes=10).float())\n",
        "pred1,p2,p3"
      ],
      "execution_count": 174,
      "outputs": [
        {
          "output_type": "stream",
          "text": [
            "torch.Size([1, 6, 13, 13])\n",
            "torch.Size([1, 12, 5, 5])\n",
            "torch.Size([1, 300])\n",
            "torch.Size([1, 16])\n",
            "torch.Size([1, 5])\n",
            "torch.Size([1, 10])\n",
            "torch.Size([1, 10])\n",
            "torch.Size([1, 5])\n",
            "torch.Size([1, 10])\n",
            "torch.Size([1, 50])\n",
            "torch.Size([1, 29])\n"
          ],
          "name": "stdout"
        },
        {
          "output_type": "execute_result",
          "data": {
            "text/plain": [
              "(tensor([[-0.1078,  0.1815,  0.2673,  0.0864,  0.1702,  0.1525, -0.1392,  0.0451,\n",
              "          -0.0085,  0.0209, -0.0851, -0.1327,  0.1246,  0.1310, -0.0107,  0.0360,\n",
              "          -0.0293, -0.0563, -0.1314, -0.1120, -0.0450,  0.0460,  0.2328, -0.0055,\n",
              "          -0.0919, -0.2226,  0.1009, -0.0043, -0.0850]],\n",
              "        grad_fn=<AddmmBackward>),\n",
              " tensor([[0.0833, 0.1113, 0.1213, 0.1012, 0.1101, 0.1081, 0.0808, 0.0971, 0.0920,\n",
              "          0.0948]], grad_fn=<SoftmaxBackward>),\n",
              " tensor([[0.0489, 0.0466, 0.0603, 0.0607, 0.0527, 0.0552, 0.0517, 0.0504, 0.0467,\n",
              "          0.0476, 0.0509, 0.0558, 0.0672, 0.0530, 0.0486, 0.0426, 0.0589, 0.0530,\n",
              "          0.0489]], grad_fn=<SoftmaxBackward>))"
            ]
          },
          "metadata": {
            "tags": []
          },
          "execution_count": 174
        }
      ]
    },
    {
      "cell_type": "code",
      "metadata": {
        "colab": {
          "base_uri": "https://localhost:8080/"
        },
        "id": "Sv3hNRC5U8rx",
        "outputId": "301a5918-5020-4e6c-d9f2-68439e2b1531"
      },
      "source": [
        "data_loader = torch.utils.data.DataLoader(\n",
        "    train_ds, \n",
        "    batch_size=10\n",
        ")\n",
        "\n",
        "batch = next(iter(data_loader))\n",
        "len(batch)\n",
        "batch\n",
        "\n",
        "images, randnos, labels, sms = batch\n",
        "\n",
        "pred1,p2,p3 = network(images, F.one_hot(torch.tensor(randnos), num_classes=10).float())\n",
        "pred1.shape,p2.shape,p3.shape\n",
        "pred1,p2,p3"
      ],
      "execution_count": 176,
      "outputs": [
        {
          "output_type": "stream",
          "text": [
            "torch.Size([10, 6, 13, 13])\n",
            "torch.Size([10, 12, 5, 5])\n",
            "torch.Size([10, 300])\n",
            "torch.Size([10, 16])\n",
            "torch.Size([10, 5])\n",
            "torch.Size([10, 10])\n",
            "torch.Size([10, 10])\n",
            "torch.Size([10, 5])\n",
            "torch.Size([10, 10])\n",
            "torch.Size([10, 50])\n",
            "torch.Size([10, 29])\n"
          ],
          "name": "stdout"
        },
        {
          "output_type": "stream",
          "text": [
            "/usr/local/lib/python3.7/dist-packages/ipykernel_launcher.py:12: UserWarning: To copy construct from a tensor, it is recommended to use sourceTensor.clone().detach() or sourceTensor.clone().detach().requires_grad_(True), rather than torch.tensor(sourceTensor).\n",
            "  if sys.path[0] == '':\n"
          ],
          "name": "stderr"
        },
        {
          "output_type": "execute_result",
          "data": {
            "text/plain": [
              "(tensor([[-1.0784e-01,  1.8153e-01,  2.6730e-01,  8.6431e-02,  1.7023e-01,\n",
              "           1.5254e-01, -1.3921e-01,  4.5118e-02, -8.4856e-03,  2.0949e-02,\n",
              "          -8.5051e-02, -1.3275e-01,  1.2456e-01,  1.3097e-01, -1.0723e-02,\n",
              "           3.5996e-02, -2.9267e-02, -5.6310e-02, -1.3139e-01, -1.1200e-01,\n",
              "          -4.5019e-02,  4.6014e-02,  2.3278e-01, -5.4749e-03, -9.1875e-02,\n",
              "          -2.2261e-01,  1.0095e-01, -4.2879e-03, -8.4960e-02],\n",
              "         [-1.1621e-01,  1.7115e-01,  2.5696e-01,  8.3134e-02,  1.6481e-01,\n",
              "           1.4741e-01, -1.3734e-01,  4.4779e-02, -2.0175e-03,  1.8433e-02,\n",
              "          -7.2665e-02, -1.2769e-01,  1.1981e-01,  1.2560e-01, -1.5784e-02,\n",
              "           1.3237e-02, -3.2371e-02, -6.5831e-02, -1.2765e-01, -1.1603e-01,\n",
              "          -3.9650e-02,  4.7715e-02,  2.2941e-01, -3.9303e-03, -9.6931e-02,\n",
              "          -2.1857e-01,  1.0627e-01, -7.3640e-03, -7.6801e-02],\n",
              "         [-1.0775e-01,  1.8017e-01,  2.6466e-01,  8.1137e-02,  1.6996e-01,\n",
              "           1.4791e-01, -1.4124e-01,  4.5881e-02, -7.5125e-03,  1.9586e-02,\n",
              "          -8.7427e-02, -1.3168e-01,  1.2218e-01,  1.2773e-01, -1.1204e-02,\n",
              "           3.1159e-02, -2.9477e-02, -5.5352e-02, -1.3082e-01, -1.1046e-01,\n",
              "          -4.1084e-02,  4.7475e-02,  2.3203e-01, -8.6499e-03, -8.8963e-02,\n",
              "          -2.2071e-01,  1.0447e-01, -2.5657e-03, -8.9024e-02],\n",
              "         [-1.1426e-01,  1.7081e-01,  2.5850e-01,  7.6645e-02,  1.6515e-01,\n",
              "           1.3891e-01, -1.3813e-01,  3.7063e-02, -1.0353e-03,  2.0067e-02,\n",
              "          -7.3893e-02, -1.2576e-01,  1.1711e-01,  1.1955e-01, -2.0070e-02,\n",
              "           9.6880e-03, -3.7050e-02, -6.1362e-02, -1.2850e-01, -1.1318e-01,\n",
              "          -3.8484e-02,  4.7024e-02,  2.3801e-01, -7.0948e-03, -9.4858e-02,\n",
              "          -2.1745e-01,  1.0764e-01, -5.1247e-03, -7.5883e-02],\n",
              "         [-1.0773e-01,  1.8040e-01,  2.6203e-01,  8.3006e-02,  1.7171e-01,\n",
              "           1.4692e-01, -1.4142e-01,  4.9701e-02, -7.8046e-03,  1.8952e-02,\n",
              "          -8.1813e-02, -1.3359e-01,  1.2444e-01,  1.2763e-01, -9.8827e-03,\n",
              "           2.5804e-02, -3.0290e-02, -5.7260e-02, -1.3111e-01, -1.1068e-01,\n",
              "          -3.8220e-02,  4.9931e-02,  2.3039e-01, -1.0275e-02, -9.0096e-02,\n",
              "          -2.2032e-01,  1.0520e-01, -5.0085e-03, -8.8897e-02],\n",
              "         [-1.1304e-01,  1.8834e-01,  2.7072e-01,  8.7394e-02,  1.7483e-01,\n",
              "           1.7150e-01, -1.4562e-01,  5.3855e-02, -1.5806e-02,  2.6390e-02,\n",
              "          -8.4788e-02, -1.2717e-01,  1.3005e-01,  1.3363e-01, -7.1361e-04,\n",
              "           5.2983e-02, -1.7999e-02, -7.6962e-02, -1.2625e-01, -1.0819e-01,\n",
              "          -4.4262e-02,  5.5165e-02,  2.1933e-01, -4.8791e-03, -9.7950e-02,\n",
              "          -2.1954e-01,  9.7023e-02, -1.1927e-02, -9.5901e-02],\n",
              "         [-1.1251e-01,  1.5141e-01,  2.3902e-01,  8.0939e-02,  1.5378e-01,\n",
              "           1.2264e-01, -1.2588e-01,  5.2051e-02,  2.2276e-02, -2.1009e-04,\n",
              "          -8.9595e-02, -1.2165e-01,  1.0522e-01,  1.2483e-01, -1.8172e-02,\n",
              "          -1.8984e-02, -3.1113e-02, -4.9694e-02, -1.3248e-01, -1.3388e-01,\n",
              "          -3.3319e-02,  3.8312e-02,  2.0768e-01, -4.8331e-03, -8.6562e-02,\n",
              "          -2.0418e-01,  1.1377e-01,  1.5150e-02, -6.8771e-02],\n",
              "         [-1.1247e-01,  1.5133e-01,  2.3922e-01,  8.0698e-02,  1.5366e-01,\n",
              "           1.2273e-01, -1.2585e-01,  5.1554e-02,  2.2304e-02, -1.0248e-04,\n",
              "          -9.0204e-02, -1.2132e-01,  1.0500e-01,  1.2485e-01, -1.8309e-02,\n",
              "          -1.8464e-02, -3.1027e-02, -4.9571e-02, -1.3251e-01, -1.3394e-01,\n",
              "          -3.3545e-02,  3.8097e-02,  2.0786e-01, -4.7057e-03, -8.6468e-02,\n",
              "          -2.0410e-01,  1.1367e-01,  1.5577e-02, -6.8631e-02],\n",
              "         [-1.1216e-01,  1.8746e-01,  2.7100e-01,  8.7400e-02,  1.7443e-01,\n",
              "           1.6882e-01, -1.4505e-01,  5.2938e-02, -1.3858e-02,  2.5525e-02,\n",
              "          -8.6994e-02, -1.2701e-01,  1.2960e-01,  1.3286e-01,  2.4049e-05,\n",
              "           5.2824e-02, -1.7763e-02, -7.7041e-02, -1.2676e-01, -1.0979e-01,\n",
              "          -4.3675e-02,  5.4754e-02,  2.1767e-01, -5.2677e-03, -9.7298e-02,\n",
              "          -2.1775e-01,  9.7311e-02, -1.0837e-02, -9.6488e-02],\n",
              "         [-1.0807e-01,  1.8274e-01,  2.6828e-01,  8.0561e-02,  1.7262e-01,\n",
              "           1.4823e-01, -1.4209e-01,  4.0069e-02, -1.0971e-02,  2.4296e-02,\n",
              "          -8.1670e-02, -1.3087e-01,  1.2379e-01,  1.2579e-01, -1.3784e-02,\n",
              "           3.2901e-02, -3.3523e-02, -5.7311e-02, -1.3150e-01, -1.0835e-01,\n",
              "          -4.2263e-02,  4.7998e-02,  2.4153e-01, -9.2150e-03, -9.1931e-02,\n",
              "          -2.2232e-01,  1.0263e-01, -5.3024e-03, -8.5221e-02]],\n",
              "        grad_fn=<AddmmBackward>),\n",
              " tensor([[0.0833, 0.1113, 0.1213, 0.1012, 0.1101, 0.1081, 0.0808, 0.0971, 0.0920,\n",
              "          0.0948],\n",
              "         [0.0830, 0.1106, 0.1205, 0.1013, 0.1099, 0.1080, 0.0812, 0.0975, 0.0930,\n",
              "          0.0949],\n",
              "         [0.0835, 0.1113, 0.1212, 0.1008, 0.1102, 0.1078, 0.0807, 0.0973, 0.0923,\n",
              "          0.0948],\n",
              "         [0.0833, 0.1108, 0.1209, 0.1008, 0.1101, 0.1073, 0.0813, 0.0969, 0.0933,\n",
              "          0.0953],\n",
              "         [0.0835, 0.1113, 0.1208, 0.1010, 0.1104, 0.1077, 0.0807, 0.0977, 0.0922,\n",
              "          0.0947],\n",
              "         [0.0826, 0.1117, 0.1213, 0.1009, 0.1102, 0.1098, 0.0800, 0.0976, 0.0910,\n",
              "          0.0950],\n",
              "         [0.0838, 0.1091, 0.1191, 0.1017, 0.1093, 0.1060, 0.0827, 0.0988, 0.0959,\n",
              "          0.0937],\n",
              "         [0.0838, 0.1091, 0.1191, 0.1016, 0.1093, 0.1060, 0.0827, 0.0987, 0.0959,\n",
              "          0.0938],\n",
              "         [0.0827, 0.1116, 0.1213, 0.1010, 0.1102, 0.1095, 0.0800, 0.0975, 0.0912,\n",
              "          0.0949],\n",
              "         [0.0834, 0.1116, 0.1215, 0.1007, 0.1104, 0.1078, 0.0806, 0.0967, 0.0919,\n",
              "          0.0952]], grad_fn=<SoftmaxBackward>),\n",
              " tensor([[0.0489, 0.0466, 0.0603, 0.0607, 0.0527, 0.0552, 0.0517, 0.0504, 0.0467,\n",
              "          0.0476, 0.0509, 0.0558, 0.0672, 0.0530, 0.0486, 0.0426, 0.0589, 0.0530,\n",
              "          0.0489],\n",
              "         [0.0496, 0.0469, 0.0601, 0.0605, 0.0525, 0.0540, 0.0516, 0.0499, 0.0469,\n",
              "          0.0475, 0.0513, 0.0559, 0.0671, 0.0531, 0.0484, 0.0429, 0.0593, 0.0529,\n",
              "          0.0494],\n",
              "         [0.0488, 0.0467, 0.0602, 0.0605, 0.0527, 0.0550, 0.0517, 0.0504, 0.0467,\n",
              "          0.0477, 0.0511, 0.0559, 0.0672, 0.0528, 0.0487, 0.0427, 0.0591, 0.0531,\n",
              "          0.0487],\n",
              "         [0.0495, 0.0470, 0.0600, 0.0601, 0.0523, 0.0539, 0.0514, 0.0502, 0.0469,\n",
              "          0.0476, 0.0513, 0.0559, 0.0677, 0.0530, 0.0485, 0.0429, 0.0594, 0.0531,\n",
              "          0.0494],\n",
              "         [0.0491, 0.0466, 0.0603, 0.0605, 0.0528, 0.0547, 0.0517, 0.0503, 0.0467,\n",
              "          0.0477, 0.0513, 0.0560, 0.0671, 0.0527, 0.0487, 0.0427, 0.0592, 0.0530,\n",
              "          0.0488],\n",
              "         [0.0489, 0.0469, 0.0606, 0.0608, 0.0532, 0.0561, 0.0523, 0.0493, 0.0469,\n",
              "          0.0478, 0.0509, 0.0563, 0.0663, 0.0530, 0.0483, 0.0427, 0.0587, 0.0526,\n",
              "          0.0484],\n",
              "         [0.0489, 0.0473, 0.0594, 0.0605, 0.0525, 0.0524, 0.0518, 0.0508, 0.0468,\n",
              "          0.0467, 0.0517, 0.0555, 0.0658, 0.0532, 0.0490, 0.0436, 0.0599, 0.0543,\n",
              "          0.0499],\n",
              "         [0.0488, 0.0473, 0.0594, 0.0605, 0.0525, 0.0525, 0.0518, 0.0509, 0.0468,\n",
              "          0.0467, 0.0517, 0.0555, 0.0658, 0.0532, 0.0490, 0.0436, 0.0599, 0.0543,\n",
              "          0.0499],\n",
              "         [0.0488, 0.0469, 0.0606, 0.0608, 0.0532, 0.0561, 0.0523, 0.0493, 0.0469,\n",
              "          0.0477, 0.0510, 0.0562, 0.0662, 0.0530, 0.0483, 0.0428, 0.0587, 0.0527,\n",
              "          0.0484],\n",
              "         [0.0491, 0.0467, 0.0603, 0.0604, 0.0525, 0.0550, 0.0515, 0.0503, 0.0467,\n",
              "          0.0478, 0.0511, 0.0559, 0.0678, 0.0528, 0.0486, 0.0426, 0.0590, 0.0530,\n",
              "          0.0489]], grad_fn=<SoftmaxBackward>))"
            ]
          },
          "metadata": {
            "tags": []
          },
          "execution_count": 176
        }
      ]
    },
    {
      "cell_type": "code",
      "metadata": {
        "id": "ivzlKM9gVMpn"
      },
      "source": [
        ""
      ],
      "execution_count": null,
      "outputs": []
    }
  ]
}