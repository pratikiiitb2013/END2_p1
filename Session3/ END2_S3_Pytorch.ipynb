{
  "nbformat": 4,
  "nbformat_minor": 0,
  "metadata": {
    "colab": {
      "name": "END2_S3_Pytorch.ipynb",
      "provenance": [],
      "collapsed_sections": [],
      "authorship_tag": "ABX9TyNq/NmnwihJyYMKYa0invW4",
      "include_colab_link": true
    },
    "kernelspec": {
      "name": "python3",
      "display_name": "Python 3"
    },
    "language_info": {
      "name": "python"
    }
  },
  "cells": [
    {
      "cell_type": "markdown",
      "metadata": {
        "id": "view-in-github",
        "colab_type": "text"
      },
      "source": [
        "<a href=\"https://colab.research.google.com/github/pratikiiitb2013/END2_p1/blob/main/Session3/%20END2_S3_Pytorch.ipynb\" target=\"_parent\"><img src=\"https://colab.research.google.com/assets/colab-badge.svg\" alt=\"Open In Colab\"/></a>"
      ]
    },
    {
      "cell_type": "code",
      "metadata": {
        "id": "XWKb41LmaYp8"
      },
      "source": [
        "import pandas as pd\n",
        "import numpy as np\n",
        "import torch\n",
        "import torchvision\n",
        "import torch.nn as nn\n",
        "import torch.nn.functional as F\n",
        "import torch.optim as optim \n",
        "from torchvision.transforms import transforms\n",
        "from torch.utils.data import DataLoader\n",
        "from torch.utils.data import Dataset\n",
        "from random import randint"
      ],
      "execution_count": 58,
      "outputs": []
    },
    {
      "cell_type": "code",
      "metadata": {
        "id": "5x8dN0w9SBEf"
      },
      "source": [
        "# class ExampleDataset(Dataset):\n",
        "#     def __init__(self, data):\n",
        "#         self.data = data\n",
        "#     def __len__(self):\n",
        "#         return len(self.data)\n",
        "    \n",
        "#     def __getitem__(self, idx):\n",
        "#         return self.data[idx]"
      ],
      "execution_count": 59,
      "outputs": []
    },
    {
      "cell_type": "code",
      "metadata": {
        "colab": {
          "base_uri": "https://localhost:8080/"
        },
        "id": "l_YwbFHTalfp",
        "outputId": "632730fa-880e-4030-ebed-0eb3599ad84c"
      },
      "source": [
        "def get_device():\n",
        "    if torch.cuda.is_available():\n",
        "        device = 'cuda:0'\n",
        "    else:\n",
        "        device = 'cpu'\n",
        "    return device\n",
        "device = get_device()\n",
        "print(device)"
      ],
      "execution_count": 11,
      "outputs": [
        {
          "output_type": "stream",
          "text": [
            "cpu\n"
          ],
          "name": "stdout"
        }
      ]
    },
    {
      "cell_type": "code",
      "metadata": {
        "id": "-XtjWlglXvdN"
      },
      "source": [
        "# sample_data = np.arange(0, 10)\n",
        "# print('The whole data: ', sample_data)\n",
        "# dataset = ExampleDataset(sample_data)\n",
        "# print('Number of samples in the data: ', len(dataset))\n",
        "# print(dataset[2])\n",
        "# print(dataset[0:5])"
      ],
      "execution_count": 14,
      "outputs": []
    },
    {
      "cell_type": "code",
      "metadata": {
        "colab": {
          "base_uri": "https://localhost:8080/"
        },
        "id": "Nz_yjYWMYOeW",
        "outputId": "84820ed6-6350-4388-d5c1-eca64f14a753"
      },
      "source": [
        "!wget https://pjreddie.com/media/files/mnist_train.csv"
      ],
      "execution_count": 12,
      "outputs": [
        {
          "output_type": "stream",
          "text": [
            "--2021-05-17 17:44:15--  https://pjreddie.com/media/files/mnist_train.csv\n",
            "Resolving pjreddie.com (pjreddie.com)... 128.208.4.108\n",
            "Connecting to pjreddie.com (pjreddie.com)|128.208.4.108|:443... connected.\n",
            "HTTP request sent, awaiting response... 200 OK\n",
            "Length: 109575994 (104M) [application/octet-stream]\n",
            "Saving to: ‘mnist_train.csv’\n",
            "\n",
            "mnist_train.csv     100%[===================>] 104.50M  34.3MB/s    in 3.0s    \n",
            "\n",
            "2021-05-17 17:44:19 (34.3 MB/s) - ‘mnist_train.csv’ saved [109575994/109575994]\n",
            "\n"
          ],
          "name": "stdout"
        }
      ]
    },
    {
      "cell_type": "code",
      "metadata": {
        "colab": {
          "base_uri": "https://localhost:8080/"
        },
        "id": "PYvRGb8sbadM",
        "outputId": "612b6983-248d-4a35-b956-8ee98e5ea8d6"
      },
      "source": [
        "!ls"
      ],
      "execution_count": 13,
      "outputs": [
        {
          "output_type": "stream",
          "text": [
            "mnist_train.csv  sample_data\n"
          ],
          "name": "stdout"
        }
      ]
    },
    {
      "cell_type": "code",
      "metadata": {
        "id": "P89S8Iz4bg2B"
      },
      "source": [
        "df_train = pd.read_csv('mnist_train.csv', header=None)\n",
        "\n",
        "# get the image pixel values and labels\n",
        "# train_labels = df_train.iloc[:, 0]\n",
        "# train_images = df_train.iloc[:, 1:]\n",
        "# test_labels = df_test.iloc[:, 0]\n",
        "# test_images = df_test.iloc[:, 1:]"
      ],
      "execution_count": 21,
      "outputs": []
    },
    {
      "cell_type": "code",
      "metadata": {
        "colab": {
          "base_uri": "https://localhost:8080/"
        },
        "id": "EQlSBEDocj8M",
        "outputId": "60259389-cc87-4c78-cb7a-db5174ad94f3"
      },
      "source": [
        "# custom dataset\n",
        "class customMNISTDataset(Dataset):\n",
        "\n",
        "  def __init__(self, data):\n",
        "    self.X = data.iloc[:, 1:]\n",
        "    self.y = data.iloc[:, 0]\n",
        "\n",
        "  def __len__(self):\n",
        "    return len(self.X)\n",
        "\n",
        "  def __getitem__(self, idx):\n",
        "    img_data = self.X.iloc[idx, :]\n",
        "    if isinstance(idx, slice):\n",
        "        img_data = np.array([i.reshape(1,28, 28) for i in np.array(img_data)])\n",
        "        rand_no = np.array([randint(0, 9) for i in np.array(img_data)])\n",
        "        y1 = np.array(self.y[idx])\n",
        "        y2 = y1 + rand_no\n",
        "    else:\n",
        "        img_data = np.array(img_data).reshape(1,28, 28)\n",
        "        rand_no = randint(0, 9)\n",
        "        y1 = self.y[idx]\n",
        "        y2 = y1 + rand_no\n",
        "    \n",
        "    return img_data, rand_no, y1, y2\n",
        "\n",
        "dataset = customMNISTDataset(df_train)\n",
        "print('Number of samples in the data: ', len(dataset))\n",
        "print(dataset[2])\n",
        "print(dataset[0:5])\n"
      ],
      "execution_count": 75,
      "outputs": [
        {
          "output_type": "stream",
          "text": [
            "Number of samples in the data:  60000\n",
            "(array([[[  0,   0,   0,   0,   0,   0,   0,   0,   0,   0,   0,   0,\n",
            "           0,   0,   0,   0,   0,   0,   0,   0,   0,   0,   0,   0,\n",
            "           0,   0,   0,   0],\n",
            "        [  0,   0,   0,   0,   0,   0,   0,   0,   0,   0,   0,   0,\n",
            "           0,   0,   0,   0,   0,   0,   0,   0,   0,   0,   0,   0,\n",
            "           0,   0,   0,   0],\n",
            "        [  0,   0,   0,   0,   0,   0,   0,   0,   0,   0,   0,   0,\n",
            "           0,   0,   0,   0,   0,   0,   0,   0,   0,   0,   0,   0,\n",
            "           0,   0,   0,   0],\n",
            "        [  0,   0,   0,   0,   0,   0,   0,   0,   0,   0,   0,   0,\n",
            "           0,   0,   0,   0,   0,   0,   0,   0,   0,   0,   0,   0,\n",
            "           0,   0,   0,   0],\n",
            "        [  0,   0,   0,   0,   0,   0,   0,   0,   0,   0,   0,   0,\n",
            "           0,   0,   0,   0,   0,   0,   0,   0,   0,   0,   0,   0,\n",
            "           0,   0,   0,   0],\n",
            "        [  0,   0,   0,   0,   0,   0,   0,   0,   0,   0,   0,   0,\n",
            "           0,   0,   0,   0,   0,   0,   0,   0,  67, 232,  39,   0,\n",
            "           0,   0,   0,   0],\n",
            "        [  0,   0,   0,   0,  62,  81,   0,   0,   0,   0,   0,   0,\n",
            "           0,   0,   0,   0,   0,   0,   0,   0, 120, 180,  39,   0,\n",
            "           0,   0,   0,   0],\n",
            "        [  0,   0,   0,   0, 126, 163,   0,   0,   0,   0,   0,   0,\n",
            "           0,   0,   0,   0,   0,   0,   0,   2, 153, 210,  40,   0,\n",
            "           0,   0,   0,   0],\n",
            "        [  0,   0,   0,   0, 220, 163,   0,   0,   0,   0,   0,   0,\n",
            "           0,   0,   0,   0,   0,   0,   0,  27, 254, 162,   0,   0,\n",
            "           0,   0,   0,   0],\n",
            "        [  0,   0,   0,   0, 222, 163,   0,   0,   0,   0,   0,   0,\n",
            "           0,   0,   0,   0,   0,   0,   0, 183, 254, 125,   0,   0,\n",
            "           0,   0,   0,   0],\n",
            "        [  0,   0,   0,  46, 245, 163,   0,   0,   0,   0,   0,   0,\n",
            "           0,   0,   0,   0,   0,   0,   0, 198, 254,  56,   0,   0,\n",
            "           0,   0,   0,   0],\n",
            "        [  0,   0,   0, 120, 254, 163,   0,   0,   0,   0,   0,   0,\n",
            "           0,   0,   0,   0,   0,   0,  23, 231, 254,  29,   0,   0,\n",
            "           0,   0,   0,   0],\n",
            "        [  0,   0,   0, 159, 254, 120,   0,   0,   0,   0,   0,   0,\n",
            "           0,   0,   0,   0,   0,   0, 163, 254, 216,  16,   0,   0,\n",
            "           0,   0,   0,   0],\n",
            "        [  0,   0,   0, 159, 254,  67,   0,   0,   0,   0,   0,   0,\n",
            "           0,   0,   0,  14,  86, 178, 248, 254,  91,   0,   0,   0,\n",
            "           0,   0,   0,   0],\n",
            "        [  0,   0,   0, 159, 254,  85,   0,   0,   0,  47,  49, 116,\n",
            "         144, 150, 241, 243, 234, 179, 241, 252,  40,   0,   0,   0,\n",
            "           0,   0,   0,   0],\n",
            "        [  0,   0,   0, 150, 253, 237, 207, 207, 207, 253, 254, 250,\n",
            "         240, 198, 143,  91,  28,   5, 233, 250,   0,   0,   0,   0,\n",
            "           0,   0,   0,   0],\n",
            "        [  0,   0,   0,   0, 119, 177, 177, 177, 177, 177,  98,  56,\n",
            "           0,   0,   0,   0,   0, 102, 254, 220,   0,   0,   0,   0,\n",
            "           0,   0,   0,   0],\n",
            "        [  0,   0,   0,   0,   0,   0,   0,   0,   0,   0,   0,   0,\n",
            "           0,   0,   0,   0,   0, 169, 254, 137,   0,   0,   0,   0,\n",
            "           0,   0,   0,   0],\n",
            "        [  0,   0,   0,   0,   0,   0,   0,   0,   0,   0,   0,   0,\n",
            "           0,   0,   0,   0,   0, 169, 254,  57,   0,   0,   0,   0,\n",
            "           0,   0,   0,   0],\n",
            "        [  0,   0,   0,   0,   0,   0,   0,   0,   0,   0,   0,   0,\n",
            "           0,   0,   0,   0,   0, 169, 254,  57,   0,   0,   0,   0,\n",
            "           0,   0,   0,   0],\n",
            "        [  0,   0,   0,   0,   0,   0,   0,   0,   0,   0,   0,   0,\n",
            "           0,   0,   0,   0,   0, 169, 255,  94,   0,   0,   0,   0,\n",
            "           0,   0,   0,   0],\n",
            "        [  0,   0,   0,   0,   0,   0,   0,   0,   0,   0,   0,   0,\n",
            "           0,   0,   0,   0,   0, 169, 254,  96,   0,   0,   0,   0,\n",
            "           0,   0,   0,   0],\n",
            "        [  0,   0,   0,   0,   0,   0,   0,   0,   0,   0,   0,   0,\n",
            "           0,   0,   0,   0,   0, 169, 254, 153,   0,   0,   0,   0,\n",
            "           0,   0,   0,   0],\n",
            "        [  0,   0,   0,   0,   0,   0,   0,   0,   0,   0,   0,   0,\n",
            "           0,   0,   0,   0,   0, 169, 255, 153,   0,   0,   0,   0,\n",
            "           0,   0,   0,   0],\n",
            "        [  0,   0,   0,   0,   0,   0,   0,   0,   0,   0,   0,   0,\n",
            "           0,   0,   0,   0,   0,  96, 254, 153,   0,   0,   0,   0,\n",
            "           0,   0,   0,   0],\n",
            "        [  0,   0,   0,   0,   0,   0,   0,   0,   0,   0,   0,   0,\n",
            "           0,   0,   0,   0,   0,   0,   0,   0,   0,   0,   0,   0,\n",
            "           0,   0,   0,   0],\n",
            "        [  0,   0,   0,   0,   0,   0,   0,   0,   0,   0,   0,   0,\n",
            "           0,   0,   0,   0,   0,   0,   0,   0,   0,   0,   0,   0,\n",
            "           0,   0,   0,   0],\n",
            "        [  0,   0,   0,   0,   0,   0,   0,   0,   0,   0,   0,   0,\n",
            "           0,   0,   0,   0,   0,   0,   0,   0,   0,   0,   0,   0,\n",
            "           0,   0,   0,   0]]]), 6, 4, 10)\n",
            "(array([[[[0, 0, 0, ..., 0, 0, 0],\n",
            "         [0, 0, 0, ..., 0, 0, 0],\n",
            "         [0, 0, 0, ..., 0, 0, 0],\n",
            "         ...,\n",
            "         [0, 0, 0, ..., 0, 0, 0],\n",
            "         [0, 0, 0, ..., 0, 0, 0],\n",
            "         [0, 0, 0, ..., 0, 0, 0]]],\n",
            "\n",
            "\n",
            "       [[[0, 0, 0, ..., 0, 0, 0],\n",
            "         [0, 0, 0, ..., 0, 0, 0],\n",
            "         [0, 0, 0, ..., 0, 0, 0],\n",
            "         ...,\n",
            "         [0, 0, 0, ..., 0, 0, 0],\n",
            "         [0, 0, 0, ..., 0, 0, 0],\n",
            "         [0, 0, 0, ..., 0, 0, 0]]],\n",
            "\n",
            "\n",
            "       [[[0, 0, 0, ..., 0, 0, 0],\n",
            "         [0, 0, 0, ..., 0, 0, 0],\n",
            "         [0, 0, 0, ..., 0, 0, 0],\n",
            "         ...,\n",
            "         [0, 0, 0, ..., 0, 0, 0],\n",
            "         [0, 0, 0, ..., 0, 0, 0],\n",
            "         [0, 0, 0, ..., 0, 0, 0]]],\n",
            "\n",
            "\n",
            "       [[[0, 0, 0, ..., 0, 0, 0],\n",
            "         [0, 0, 0, ..., 0, 0, 0],\n",
            "         [0, 0, 0, ..., 0, 0, 0],\n",
            "         ...,\n",
            "         [0, 0, 0, ..., 0, 0, 0],\n",
            "         [0, 0, 0, ..., 0, 0, 0],\n",
            "         [0, 0, 0, ..., 0, 0, 0]]],\n",
            "\n",
            "\n",
            "       [[[0, 0, 0, ..., 0, 0, 0],\n",
            "         [0, 0, 0, ..., 0, 0, 0],\n",
            "         [0, 0, 0, ..., 0, 0, 0],\n",
            "         ...,\n",
            "         [0, 0, 0, ..., 0, 0, 0],\n",
            "         [0, 0, 0, ..., 0, 0, 0],\n",
            "         [0, 0, 0, ..., 0, 0, 0]]]]), array([4, 5, 5, 6, 0]), array([5, 0, 4, 1, 9]), array([9, 5, 9, 7, 9]))\n"
          ],
          "name": "stdout"
        }
      ]
    },
    {
      "cell_type": "code",
      "metadata": {
        "id": "o1UkeDONhlww"
      },
      "source": [
        ""
      ],
      "execution_count": null,
      "outputs": []
    }
  ]
}